{
 "cells": [
  {
   "cell_type": "markdown",
   "id": "e51e9606",
   "metadata": {},
   "source": [
    "<a id=\"TOP\"> </a>\n",
    "<div class=\"alert alert-block alert-info\">\n",
    "</div>\n",
    "\n",
    "***"
   ]
  },
  {
   "cell_type": "code",
   "execution_count": 1,
   "id": "7ce3f90f",
   "metadata": {},
   "outputs": [],
   "source": [
    "import pandas as pd\n",
    "import numpy as np\n",
    "import matplotlib.pyplot as plt\n",
    "from wrangle_mvp import clean_zillow\n",
    "from wrangle_mvp import boxplots, hists, split_data_continuous, model_sets\n",
    "import seaborn as sns\n"
   ]
  },
  {
   "cell_type": "code",
   "execution_count": 2,
   "id": "c68256fa",
   "metadata": {},
   "outputs": [
    {
     "name": "stdout",
     "output_type": "stream",
     "text": [
      "Number of observations removed: 5516\n"
     ]
    }
   ],
   "source": [
    "df = clean_zillow()"
   ]
  },
  {
   "cell_type": "code",
   "execution_count": 3,
   "id": "5bb67418",
   "metadata": {},
   "outputs": [
    {
     "name": "stdout",
     "output_type": "stream",
     "text": [
      "<class 'pandas.core.frame.DataFrame'>\n",
      "Int64Index: 35848 entries, 1 to 52278\n",
      "Data columns (total 4 columns):\n",
      " #   Column     Non-Null Count  Dtype  \n",
      "---  ------     --------------  -----  \n",
      " 0   beds       35848 non-null  float64\n",
      " 1   baths      35848 non-null  float64\n",
      " 2   area       35848 non-null  float64\n",
      " 3   tax_value  35848 non-null  float64\n",
      "dtypes: float64(4)\n",
      "memory usage: 1.4 MB\n"
     ]
    }
   ],
   "source": [
    "df.info()"
   ]
  },
  {
   "cell_type": "code",
   "execution_count": 4,
   "id": "cc308f23",
   "metadata": {},
   "outputs": [
    {
     "name": "stdout",
     "output_type": "stream",
     "text": [
      "Prepared df: (35848, 4)\n",
      "\n",
      "Train: (21508, 4)\n",
      "Validate: (7170, 4)\n",
      "Test: (7170, 4)\n",
      "The mean_preds had the lowest RMSE: 215859 with an in/out of: 0.999\n"
     ]
    }
   ],
   "source": [
    "train, validate, test = split_data_continuous(df, with_baseline=True)"
   ]
  },
  {
   "cell_type": "code",
   "execution_count": 32,
   "id": "9f88f698",
   "metadata": {
    "scrolled": true
   },
   "outputs": [
    {
     "name": "stdout",
     "output_type": "stream",
     "text": [
      "\n",
      "X_cols = ['beds', 'baths', 'area']\n",
      "\n",
      "y_cols = ['tax_value', 'baseline']\n",
      "\n",
      "\n"
     ]
    }
   ],
   "source": [
    "X_train, y_train, X_validate, y_validate, X_test, y_test = model_sets(train, validate, test)"
   ]
  },
  {
   "cell_type": "markdown",
   "id": "97aa4f27",
   "metadata": {},
   "source": [
    "## Prepare Data for Modeling\n",
    "\n",
    "**Wrangle**\n",
    "\n",
    "1. Acquired data from zillow RDBMS. \n",
    "\n",
    "2. Clean data\n",
    "\n",
    "3. Split data \n",
    "\n",
    "4. Scale data\n",
    "\n",
    "`wrangel_mvp.clean_zillow`, `.split_data_continuous`, and `.model_sets` returns the following: \n",
    "\n",
    "| Object Returned | Description | Purpose                          |\n",
    "|:-------------------|:--------------------------------|:----------------------------------------------------|\n",
    "| 1. df | **Dataframe**, **Feature** and **target** variables, **Unscaled** | New features, additional cleaning needed, etc. |\n",
    "| 2. X_train | **Dataframe**, **Feature** variables only, **Scaled**| Feature selection, fit models, make predictions |\n",
    "| 3. y_train | **Series**, **Target** variable and baseline only, **Unscaled** | Feature selection, evaluate model predictions |\n",
    "| 4. X_validate | **Dataframe**, **Features** variables only, **Scaled**, Dummy vars **without** original categorical vars | Make predictions using top models |\n",
    "| 5. y_validate | **Series**, **Target** variable and baseline only, **Unscaled** | Evaluate model predictions made from X_validate to assess overfitting | \n",
    "| 6. X_test | **Dataframe**, **Features** variables only, **Scaled**, Dummy vars **without** original categorical vars | Make predictions using best model|\n",
    "| 7. y_test | **Series**, **Target** variable and baseline only, **Unscaled** | Evaluate model predictions made from X_test to estimate future performance on new data |"
   ]
  },
  {
   "cell_type": "code",
   "execution_count": null,
   "id": "70f13e29",
   "metadata": {},
   "outputs": [],
   "source": []
  },
  {
   "cell_type": "markdown",
   "id": "f089b223",
   "metadata": {},
   "source": [
    "<a id=\"imports\"> </a>"
   ]
  },
  {
   "cell_type": "code",
   "execution_count": 70,
   "id": "3ebed81e",
   "metadata": {},
   "outputs": [],
   "source": [
    "# modeling methods\n",
    "from sklearn.metrics import mean_squared_error\n",
    "from sklearn.linear_model import LinearRegression, LassoLars, TweedieRegressor\n",
    "from sklearn.preprocessing import PolynomialFeatures\n",
    "from sklearn.metrics import explained_variance_score\n",
    "\n",
    "import warnings\n",
    "warnings.filterwarnings(\"ignore\")"
   ]
  },
  {
   "cell_type": "code",
   "execution_count": 30,
   "id": "f7d292a5",
   "metadata": {},
   "outputs": [
    {
     "name": "stdout",
     "output_type": "stream",
     "text": [
      "<class 'pandas.core.frame.DataFrame'>\n",
      "Int64Index: 21508 entries, 30326 to 49470\n",
      "Data columns (total 2 columns):\n",
      " #   Column     Non-Null Count  Dtype  \n",
      "---  ------     --------------  -----  \n",
      " 0   tax_value  21508 non-null  float64\n",
      " 1   baseline   21508 non-null  int64  \n",
      "dtypes: float64(1), int64(1)\n",
      "memory usage: 1020.1 KB\n"
     ]
    }
   ],
   "source": [
    "y_train.info()"
   ]
  },
  {
   "cell_type": "code",
   "execution_count": 29,
   "id": "ee0e3816",
   "metadata": {},
   "outputs": [
    {
     "data": {
      "image/png": "[encoded data removed]",
      "text/plain": [
       "<Figure size 864x432 with 1 Axes>"
      ]
     },
     "metadata": {
      "needs_background": "light"
     },
     "output_type": "display_data"
    }
   ],
   "source": [
    "# plot to visualize actual vs predicted. \n",
    "plt.figure(figsize=(12,6))\n",
    "\n",
    "plt.hist(y_train.tax_value, \n",
    "         color='blue', \n",
    "         alpha=.5, \n",
    "         label=\"Actual Tax Values\"\n",
    "        )\n",
    "plt.hist(y_train.baseline, \n",
    "         bins=1, \n",
    "         color='red', \n",
    "         alpha=.5, \n",
    "#          rwidth=1, \n",
    "         label=\"Baseline Predicted Tax Values - Mean\"\n",
    "        )\n",
    "plt.xlabel(\"Tax Values of Homes (tax_value)\")\n",
    "plt.ylabel(\"Number of Homes\")\n",
    "\n",
    "plt.ylim(0, 6_000)\n",
    "\n",
    "plt.legend()\n",
    "plt.show()"
   ]
  },
  {
   "cell_type": "code",
   "execution_count": 11,
   "id": "7110eb0a",
   "metadata": {},
   "outputs": [
    {
     "ename": "NameError",
     "evalue": "name 'rwidth' is not defined",
     "output_type": "error",
     "traceback": [
      "\u001b[0;31m---------------------------------------------------------------------------\u001b[0m",
      "\u001b[0;31mNameError\u001b[0m                                 Traceback (most recent call last)",
      "Input \u001b[0;32mIn [11]\u001b[0m, in \u001b[0;36m<cell line: 1>\u001b[0;34m()\u001b[0m\n\u001b[0;32m----> 1\u001b[0m \u001b[38;5;28;01mdel\u001b[39;00m rwidth\n",
      "\u001b[0;31mNameError\u001b[0m: name 'rwidth' is not defined"
     ]
    }
   ],
   "source": [
    "del rwidth"
   ]
  },
  {
   "cell_type": "code",
   "execution_count": 55,
   "id": "06adbcef",
   "metadata": {
    "scrolled": true
   },
   "outputs": [
    {
     "name": "stdout",
     "output_type": "stream",
     "text": [
      "\n",
      "RMSE value_pred_lm using LinearRegression\n",
      "--------\n",
      "Training/In-Sample:  197972.41031438438 \n",
      "---------\n",
      "Validation/Out-of-Sample:  200403.27832457158 \n",
      "\n",
      "\n",
      "RMSE value_pred_lars using LassoLars\n",
      "--------\n",
      "Training/In-Sample:  197972.6808731498 \n",
      "---------\n",
      "Validation/Out-of-Sample:  200398.11655464413 \n",
      "\n",
      "\n",
      "RMSE value_pred_glm using TweedieRegressor\n",
      "--------\n",
      "Training/In-Sample:  198041.36751348778 \n",
      "---------\n",
      "Validation/Out-of-Sample:  200481.7408834824 \n",
      "\n"
     ]
    }
   ],
   "source": [
    "# create the model objects:\n",
    "\n",
    "lm = LinearRegression(normalize=True)\n",
    "\n",
    "lars = LassoLars(alpha=1, random_state=123)\n",
    "\n",
    "glm = TweedieRegressor(power=(1), alpha=0)\n",
    "\n",
    "# fit the model to our training data. We must specify the column in y_train, \n",
    "# since we have converted it to a dataframe from a series! \n",
    "# \n",
    "# fit the things\n",
    "# \n",
    "lm.fit(X_train, y_train.tax_value)\n",
    "\n",
    "lars.fit(X_train, y_train.tax_value)\n",
    "\n",
    "glm.fit(X_train, y_train.tax_value)\n",
    "\n",
    "# predict trains\n",
    "\n",
    "y_train['value_pred_lm'] = lm.predict(X_train)\n",
    "\n",
    "y_train['value_pred_lars'] = lars.predict(X_train)\n",
    "\n",
    "y_train['value_pred_glm'] = glm.predict(X_train)\n",
    "\n",
    "# set up y_train without target, and baseline\n",
    "y_trained = y_train.drop(columns=['tax_value', 'baseline'])\n",
    "\n",
    "# make a list of the models for predicting\n",
    "models = [lm.predict, lars.predict, glm.predict]\n",
    "\n",
    "# names of the models for displaying\n",
    "model_names = ['LinearRegression', 'LassoLars', 'TweedieRegressor']\n",
    "\n",
    "# for loop to get the RMSE of each of the models and print them\n",
    "for i in y_trained:\n",
    "    for n in range(0,len(y_trained.columns)):\n",
    "        if i == y_trained.columns[n]:\n",
    "            j = models[n]\n",
    "            k = model_names[n]\n",
    "            # evaluate: rmse\n",
    "            rmse_train = mean_squared_error(y_train.tax_value, y_trained[i]) ** (1/2)\n",
    "\n",
    "            # predict validate\n",
    "            y_validate[i] = j(X_validate)\n",
    "\n",
    "            # evaluate: rmse\n",
    "            rmse_validate = mean_squared_error(y_validate.tax_value, y_validate[i]) ** (1/2)\n",
    "\n",
    "            print(f\"\\nRMSE {i} using {k}\\n--------\\nTraining/In-Sample: \", rmse_train, \n",
    "                  \"\\n---------\\nValidation/Out-of-Sample: \", rmse_validate,\"\\n\")\n",
    "    continue"
   ]
  },
  {
   "cell_type": "code",
   "execution_count": 59,
   "id": "86ef879e",
   "metadata": {},
   "outputs": [
    {
     "name": "stdout",
     "output_type": "stream",
     "text": [
      "\n",
      "RMSE Value_pred_lm using LinearRegression    \n",
      "--------\n",
      "Training/In-Sample:  197972.41031438438 \n",
      "---------\n",
      "Validation/Out-of-Sample:  200403.27832457158 \n",
      "\n",
      "\n",
      "RMSE Value_pred_lars using LassoLars    \n",
      "--------\n",
      "Training/In-Sample:  197972.6808731498 \n",
      "---------\n",
      "Validation/Out-of-Sample:  200398.11655464413 \n",
      "\n",
      "\n",
      "RMSE Value_pred_glm using TweedieRegressor    \n",
      "--------\n",
      "Training/In-Sample:  198041.36751348778 \n",
      "---------\n",
      "Validation/Out-of-Sample:  200481.7408834824 \n",
      "\n"
     ]
    }
   ],
   "source": [
    "# create the model objects:\n",
    "\n",
    "lm = LinearRegression(normalize=True)\n",
    "\n",
    "lars = LassoLars(alpha=1, random_state=123)\n",
    "\n",
    "glm = TweedieRegressor(power=(1), alpha=0)\n",
    "\n",
    "# fit the model to our training data. We must specify the column in y_train, \n",
    "# since we have converted it to a dataframe from a series! \n",
    "# \n",
    "# fit the things\n",
    "# \n",
    "lm.fit(X_train, y_train.tax_value)\n",
    "\n",
    "lars.fit(X_train, y_train.tax_value)\n",
    "\n",
    "glm.fit(X_train, y_train.tax_value)\n",
    "\n",
    "# predict trains\n",
    "\n",
    "y_train['value_pred_lm'] = lm.predict(X_train)\n",
    "\n",
    "y_train['value_pred_lars'] = lars.predict(X_train)\n",
    "\n",
    "y_train['value_pred_glm'] = glm.predict(X_train)\n",
    "\n",
    "# set up y_train without target, and baseline\n",
    "y_trained = y_train.drop(columns=['tax_value', 'baseline'])\n",
    "\n",
    "# make a list of the models for predicting\n",
    "models = [lm.predict, lars.predict, glm.predict]\n",
    "\n",
    "# names of the models for displaying\n",
    "model_names = ['LinearRegression', 'LassoLars', 'TweedieRegressor']\n",
    "\n",
    "# for loop to get the RMSE of each of the models and print them\n",
    "for i, j in enumerate(y_trained):\n",
    "    # evaluate: rmse\n",
    "    rmse_train = mean_squared_error(y_train.tax_value, y_trained[j]) ** (1/2)\n",
    "\n",
    "    # predict validate\n",
    "    y_validate[j] = models[i](X_validate)\n",
    "\n",
    "    # evaluate: rmse\n",
    "    rmse_validate = mean_squared_error(y_validate.tax_value, y_validate[j]) ** (1/2)\n",
    "\n",
    "    print(f\"\\nRMSE {j.capitalize()} using {model_names[i]}\\\n",
    "    \\n--------\\nTraining/In-Sample: \", rmse_train, \n",
    "          \"\\n---------\\nValidation/Out-of-Sample: \", rmse_validate,\"\\n\")\n"
   ]
  },
  {
   "cell_type": "code",
   "execution_count": 110,
   "id": "0e764d4f",
   "metadata": {},
   "outputs": [],
   "source": [
    "models = pd.DataFrame(\\\n",
    "{'model_name':['Linear Regression',\n",
    "               'Lasso Lars',\n",
    "               'GLM (Tweedie Reg)',\n",
    "               ],\n",
    "'made_model': [LinearRegression(normalize=True),\n",
    "               LassoLars(alpha=1, random_state=123),\n",
    "               TweedieRegressor(power=(1), alpha=0)\n",
    "              ],}\n",
    ")\n",
    "\n",
    "# ({'lin_reg': [LinearRegression(normalize=True), LinearRegression()],\n",
    "#           'lasso_lars': LassoLars(alpha=1, random_state=123),\n",
    "#           'tweedie': TweedieRegressor(power=(1), alpha=0)\n",
    "#          })"
   ]
  },
  {
   "cell_type": "code",
   "execution_count": 111,
   "id": "73102b11",
   "metadata": {},
   "outputs": [
    {
     "data": {
      "text/html": [
       "<div>\n",
       "<style scoped>\n",
       "    .dataframe tbody tr th:only-of-type {\n",
       "        vertical-align: middle;\n",
       "    }\n",
       "\n",
       "    .dataframe tbody tr th {\n",
       "        vertical-align: top;\n",
       "    }\n",
       "\n",
       "    .dataframe thead th {\n",
       "        text-align: right;\n",
       "    }\n",
       "</style>\n",
       "<table border=\"1\" class=\"dataframe\">\n",
       "  <thead>\n",
       "    <tr style=\"text-align: right;\">\n",
       "      <th></th>\n",
       "      <th>model_name</th>\n",
       "      <th>made_model</th>\n",
       "    </tr>\n",
       "  </thead>\n",
       "  <tbody>\n",
       "    <tr>\n",
       "      <th>0</th>\n",
       "      <td>Linear Regression</td>\n",
       "      <td>LinearRegression(normalize=True)</td>\n",
       "    </tr>\n",
       "    <tr>\n",
       "      <th>1</th>\n",
       "      <td>Lasso Lars</td>\n",
       "      <td>LassoLars(alpha=1, random_state=123)</td>\n",
       "    </tr>\n",
       "    <tr>\n",
       "      <th>2</th>\n",
       "      <td>GLM (Tweedie Reg)</td>\n",
       "      <td>TweedieRegressor(alpha=0, power=1)</td>\n",
       "    </tr>\n",
       "  </tbody>\n",
       "</table>\n",
       "</div>"
      ],
      "text/plain": [
       "          model_name                            made_model\n",
       "0  Linear Regression      LinearRegression(normalize=True)\n",
       "1         Lasso Lars  LassoLars(alpha=1, random_state=123)\n",
       "2  GLM (Tweedie Reg)    TweedieRegressor(alpha=0, power=1)"
      ]
     },
     "execution_count": 111,
     "metadata": {},
     "output_type": "execute_result"
    }
   ],
   "source": [
    "models"
   ]
  },
  {
   "cell_type": "code",
   "execution_count": 112,
   "id": "637a314f",
   "metadata": {},
   "outputs": [],
   "source": [
    "models['fit_model'] = models.model_name\n",
    "for i, j in enumerate(models.made_model):\n",
    "    models['fit_model'][i] = j.fit(X_train, y_train.tax_value)"
   ]
  },
  {
   "cell_type": "code",
   "execution_count": null,
   "id": "134dac1f",
   "metadata": {},
   "outputs": [],
   "source": []
  },
  {
   "cell_type": "code",
   "execution_count": 113,
   "id": "57032aeb",
   "metadata": {
    "scrolled": true
   },
   "outputs": [
    {
     "data": {
      "text/html": [
       "<div>\n",
       "<style scoped>\n",
       "    .dataframe tbody tr th:only-of-type {\n",
       "        vertical-align: middle;\n",
       "    }\n",
       "\n",
       "    .dataframe tbody tr th {\n",
       "        vertical-align: top;\n",
       "    }\n",
       "\n",
       "    .dataframe thead th {\n",
       "        text-align: right;\n",
       "    }\n",
       "</style>\n",
       "<table border=\"1\" class=\"dataframe\">\n",
       "  <thead>\n",
       "    <tr style=\"text-align: right;\">\n",
       "      <th></th>\n",
       "      <th>model_name</th>\n",
       "      <th>made_model</th>\n",
       "      <th>fit_model</th>\n",
       "    </tr>\n",
       "  </thead>\n",
       "  <tbody>\n",
       "    <tr>\n",
       "      <th>0</th>\n",
       "      <td>Linear Regression</td>\n",
       "      <td>LinearRegression(normalize=True)</td>\n",
       "      <td>LinearRegression(normalize=True)</td>\n",
       "    </tr>\n",
       "    <tr>\n",
       "      <th>1</th>\n",
       "      <td>Lasso Lars</td>\n",
       "      <td>LassoLars(alpha=1, random_state=123)</td>\n",
       "      <td>LassoLars(alpha=1, random_state=123)</td>\n",
       "    </tr>\n",
       "    <tr>\n",
       "      <th>2</th>\n",
       "      <td>GLM (Tweedie Reg)</td>\n",
       "      <td>TweedieRegressor(alpha=0, power=1)</td>\n",
       "      <td>TweedieRegressor(alpha=0, power=1)</td>\n",
       "    </tr>\n",
       "  </tbody>\n",
       "</table>\n",
       "</div>"
      ],
      "text/plain": [
       "          model_name                            made_model  \\\n",
       "0  Linear Regression      LinearRegression(normalize=True)   \n",
       "1         Lasso Lars  LassoLars(alpha=1, random_state=123)   \n",
       "2  GLM (Tweedie Reg)    TweedieRegressor(alpha=0, power=1)   \n",
       "\n",
       "                              fit_model  \n",
       "0      LinearRegression(normalize=True)  \n",
       "1  LassoLars(alpha=1, random_state=123)  \n",
       "2    TweedieRegressor(alpha=0, power=1)  "
      ]
     },
     "execution_count": 113,
     "metadata": {},
     "output_type": "execute_result"
    }
   ],
   "source": [
    "models"
   ]
  },
  {
   "cell_type": "code",
   "execution_count": 114,
   "id": "78919696",
   "metadata": {
    "scrolled": true
   },
   "outputs": [],
   "source": [
    "models['predict_model'] = models.model_name\n",
    "for i, j in enumerate(models.fit_model):\n",
    "    models.predict_model[i] = j.predict"
   ]
  },
  {
   "cell_type": "code",
   "execution_count": null,
   "id": "7614261d",
   "metadata": {},
   "outputs": [],
   "source": []
  },
  {
   "cell_type": "code",
   "execution_count": null,
   "id": "c5717d29",
   "metadata": {},
   "outputs": [],
   "source": [
    "for i, j in enumerate(model_performance.fit_model)"
   ]
  },
  {
   "cell_type": "code",
   "execution_count": 115,
   "id": "30ca9b7e",
   "metadata": {
    "scrolled": false
   },
   "outputs": [
    {
     "data": {
      "text/html": [
       "<div>\n",
       "<style scoped>\n",
       "    .dataframe tbody tr th:only-of-type {\n",
       "        vertical-align: middle;\n",
       "    }\n",
       "\n",
       "    .dataframe tbody tr th {\n",
       "        vertical-align: top;\n",
       "    }\n",
       "\n",
       "    .dataframe thead th {\n",
       "        text-align: right;\n",
       "    }\n",
       "</style>\n",
       "<table border=\"1\" class=\"dataframe\">\n",
       "  <thead>\n",
       "    <tr style=\"text-align: right;\">\n",
       "      <th></th>\n",
       "      <th>model_name</th>\n",
       "      <th>made_model</th>\n",
       "      <th>fit_model</th>\n",
       "      <th>predict_model</th>\n",
       "    </tr>\n",
       "  </thead>\n",
       "  <tbody>\n",
       "    <tr>\n",
       "      <th>0</th>\n",
       "      <td>Linear Regression</td>\n",
       "      <td>LinearRegression(normalize=True)</td>\n",
       "      <td>LinearRegression(normalize=True)</td>\n",
       "      <td>&lt;bound method LinearModel.predict of LinearReg...</td>\n",
       "    </tr>\n",
       "    <tr>\n",
       "      <th>1</th>\n",
       "      <td>Lasso Lars</td>\n",
       "      <td>LassoLars(alpha=1, random_state=123)</td>\n",
       "      <td>LassoLars(alpha=1, random_state=123)</td>\n",
       "      <td>&lt;bound method LinearModel.predict of LassoLars...</td>\n",
       "    </tr>\n",
       "    <tr>\n",
       "      <th>2</th>\n",
       "      <td>GLM (Tweedie Reg)</td>\n",
       "      <td>TweedieRegressor(alpha=0, power=1)</td>\n",
       "      <td>TweedieRegressor(alpha=0, power=1)</td>\n",
       "      <td>&lt;bound method GeneralizedLinearRegressor.predi...</td>\n",
       "    </tr>\n",
       "  </tbody>\n",
       "</table>\n",
       "</div>"
      ],
      "text/plain": [
       "          model_name                            made_model  \\\n",
       "0  Linear Regression      LinearRegression(normalize=True)   \n",
       "1         Lasso Lars  LassoLars(alpha=1, random_state=123)   \n",
       "2  GLM (Tweedie Reg)    TweedieRegressor(alpha=0, power=1)   \n",
       "\n",
       "                              fit_model  \\\n",
       "0      LinearRegression(normalize=True)   \n",
       "1  LassoLars(alpha=1, random_state=123)   \n",
       "2    TweedieRegressor(alpha=0, power=1)   \n",
       "\n",
       "                                       predict_model  \n",
       "0  <bound method LinearModel.predict of LinearReg...  \n",
       "1  <bound method LinearModel.predict of LassoLars...  \n",
       "2  <bound method GeneralizedLinearRegressor.predi...  "
      ]
     },
     "execution_count": 115,
     "metadata": {},
     "output_type": "execute_result"
    }
   ],
   "source": [
    "models"
   ]
  },
  {
   "cell_type": "code",
   "execution_count": 109,
   "id": "484fd6c1",
   "metadata": {},
   "outputs": [],
   "source": [
    "models = model_performance"
   ]
  },
  {
   "cell_type": "code",
   "execution_count": null,
   "id": "419f3523",
   "metadata": {},
   "outputs": [],
   "source": []
  },
  {
   "cell_type": "code",
   "execution_count": null,
   "id": "c7af19e7",
   "metadata": {},
   "outputs": [],
   "source": []
  },
  {
   "cell_type": "code",
   "execution_count": 116,
   "id": "df0df973",
   "metadata": {
    "scrolled": true
   },
   "outputs": [
    {
     "name": "stdout",
     "output_type": "stream",
     "text": [
      "<class 'pandas.core.frame.DataFrame'>\n",
      "RangeIndex: 3 entries, 0 to 2\n",
      "Data columns (total 4 columns):\n",
      " #   Column         Non-Null Count  Dtype \n",
      "---  ------         --------------  ----- \n",
      " 0   model_name     3 non-null      object\n",
      " 1   made_model     3 non-null      object\n",
      " 2   fit_model      3 non-null      object\n",
      " 3   predict_model  3 non-null      object\n",
      "dtypes: object(4)\n",
      "memory usage: 224.0+ bytes\n"
     ]
    }
   ],
   "source": [
    "models.info()"
   ]
  },
  {
   "cell_type": "code",
   "execution_count": 68,
   "id": "d1c325d1",
   "metadata": {},
   "outputs": [
    {
     "data": {
      "text/plain": [
       "LinearRegression(normalize=True)"
      ]
     },
     "execution_count": 68,
     "metadata": {},
     "output_type": "execute_result"
    }
   ],
   "source": [
    "models['lin_reg'][0].train()"
   ]
  },
  {
   "cell_type": "markdown",
   "id": "d4a2ad1d",
   "metadata": {},
   "source": [
    "# LOOK AT THIS!!!<br><br><br><br><br>\n",
    "# ⬇︎"
   ]
  },
  {
   "cell_type": "code",
   "execution_count": null,
   "id": "e094f72d",
   "metadata": {},
   "outputs": [],
   "source": [
    "from sklearn.model_selection import BaseCrossValidator, GridSearchCV\n"
   ]
  },
  {
   "cell_type": "code",
   "execution_count": 71,
   "id": "4ed8bf23",
   "metadata": {},
   "outputs": [
    {
     "data": {
      "text/plain": [
       "{'lin_reg': [LinearRegression(normalize=True), LinearRegression()],\n",
       " 'lasso_lars': LassoLars(alpha=1, random_state=123),\n",
       " 'tweedie': TweedieRegressor(alpha=0, power=1)}"
      ]
     },
     "execution_count": 71,
     "metadata": {},
     "output_type": "execute_result"
    }
   ],
   "source": [
    "models"
   ]
  },
  {
   "cell_type": "code",
   "execution_count": 123,
   "id": "79ff99da",
   "metadata": {},
   "outputs": [
    {
     "data": {
      "text/plain": [
       "<enumerate at 0x148ed7900>"
      ]
     },
     "execution_count": 123,
     "metadata": {},
     "output_type": "execute_result"
    }
   ],
   "source": []
  },
  {
   "cell_type": "code",
   "execution_count": 60,
   "id": "2f1e90bb",
   "metadata": {},
   "outputs": [],
   "source": [
    "zillow = [df, X_train, y_train, X_validate, y_validate, X_test, y_test]\n"
   ]
  },
  {
   "cell_type": "code",
   "execution_count": 144,
   "id": "f4acda4d",
   "metadata": {
    "scrolled": false
   },
   "outputs": [],
   "source": [
    "zillow_sets = pd.DataFrame({'df': f'pd.DataFrame({df})',\n",
    "                                  'X_train': [X_train],\n",
    "                                  'y_train': [y_train],\n",
    "                                  'X_validate': [X_validate],\n",
    "                                  'y_validate': [y_validate],\n",
    "                                  'X_test': [X_test],\n",
    "                                  'y_test': [y_test]\n",
    "                                 })"
   ]
  },
  {
   "cell_type": "code",
   "execution_count": null,
   "id": "f3757b59",
   "metadata": {},
   "outputs": [],
   "source": []
  },
  {
   "cell_type": "code",
   "execution_count": null,
   "id": "1acb49d9",
   "metadata": {},
   "outputs": [],
   "source": []
  },
  {
   "cell_type": "code",
   "execution_count": 145,
   "id": "c783fd03",
   "metadata": {},
   "outputs": [
    {
     "data": {
      "text/html": [
       "<div>\n",
       "<style scoped>\n",
       "    .dataframe tbody tr th:only-of-type {\n",
       "        vertical-align: middle;\n",
       "    }\n",
       "\n",
       "    .dataframe tbody tr th {\n",
       "        vertical-align: top;\n",
       "    }\n",
       "\n",
       "    .dataframe thead th {\n",
       "        text-align: right;\n",
       "    }\n",
       "</style>\n",
       "<table border=\"1\" class=\"dataframe\">\n",
       "  <thead>\n",
       "    <tr style=\"text-align: right;\">\n",
       "      <th></th>\n",
       "      <th>df</th>\n",
       "      <th>X_train</th>\n",
       "      <th>y_train</th>\n",
       "      <th>X_validate</th>\n",
       "      <th>y_validate</th>\n",
       "      <th>X_test</th>\n",
       "      <th>y_test</th>\n",
       "    </tr>\n",
       "  </thead>\n",
       "  <tbody>\n",
       "    <tr>\n",
       "      <th>0</th>\n",
       "      <td>pd.DataFrame(       beds  baths    area  tax_v...</td>\n",
       "      <td>beds     baths      area\n",
       "30326  0.6...</td>\n",
       "      <td>tax_value  baseline  value_pred_lm  val...</td>\n",
       "      <td>beds     baths      area\n",
       "17589  0.6...</td>\n",
       "      <td>tax_value  baseline  value_pred_lm  val...</td>\n",
       "      <td>beds     baths      area\n",
       "19574  0.0...</td>\n",
       "      <td>tax_value  baseline\n",
       "19574   526902.0   ...</td>\n",
       "    </tr>\n",
       "  </tbody>\n",
       "</table>\n",
       "</div>"
      ],
      "text/plain": [
       "                                                  df  \\\n",
       "0  pd.DataFrame(       beds  baths    area  tax_v...   \n",
       "\n",
       "                                             X_train  \\\n",
       "0             beds     baths      area\n",
       "30326  0.6...   \n",
       "\n",
       "                                             y_train  \\\n",
       "0         tax_value  baseline  value_pred_lm  val...   \n",
       "\n",
       "                                          X_validate  \\\n",
       "0             beds     baths      area\n",
       "17589  0.6...   \n",
       "\n",
       "                                          y_validate  \\\n",
       "0         tax_value  baseline  value_pred_lm  val...   \n",
       "\n",
       "                                              X_test  \\\n",
       "0             beds     baths      area\n",
       "19574  0.0...   \n",
       "\n",
       "                                              y_test  \n",
       "0         tax_value  baseline\n",
       "19574   526902.0   ...  "
      ]
     },
     "execution_count": 145,
     "metadata": {},
     "output_type": "execute_result"
    }
   ],
   "source": [
    "zillow_sets"
   ]
  },
  {
   "cell_type": "code",
   "execution_count": 147,
   "id": "2c770457",
   "metadata": {},
   "outputs": [
    {
     "ename": "AttributeError",
     "evalue": "'Series' object has no attribute 'tax_value'",
     "output_type": "error",
     "traceback": [
      "\u001b[0;31m---------------------------------------------------------------------------\u001b[0m",
      "\u001b[0;31mAttributeError\u001b[0m                            Traceback (most recent call last)",
      "Input \u001b[0;32mIn [147]\u001b[0m, in \u001b[0;36m<cell line: 2>\u001b[0;34m()\u001b[0m\n\u001b[1;32m      1\u001b[0m this \u001b[38;5;241m=\u001b[39m zillow_sets\u001b[38;5;241m.\u001b[39mdf\n\u001b[0;32m----> 2\u001b[0m \u001b[43mthis\u001b[49m\u001b[38;5;241;43m.\u001b[39;49m\u001b[43mtax_value\u001b[49m\n",
      "File \u001b[0;32m/opt/homebrew/anaconda3/lib/python3.9/site-packages/pandas/core/generic.py:5575\u001b[0m, in \u001b[0;36mNDFrame.__getattr__\u001b[0;34m(self, name)\u001b[0m\n\u001b[1;32m   5568\u001b[0m \u001b[38;5;28;01mif\u001b[39;00m (\n\u001b[1;32m   5569\u001b[0m     name \u001b[38;5;129;01mnot\u001b[39;00m \u001b[38;5;129;01min\u001b[39;00m \u001b[38;5;28mself\u001b[39m\u001b[38;5;241m.\u001b[39m_internal_names_set\n\u001b[1;32m   5570\u001b[0m     \u001b[38;5;129;01mand\u001b[39;00m name \u001b[38;5;129;01mnot\u001b[39;00m \u001b[38;5;129;01min\u001b[39;00m \u001b[38;5;28mself\u001b[39m\u001b[38;5;241m.\u001b[39m_metadata\n\u001b[1;32m   5571\u001b[0m     \u001b[38;5;129;01mand\u001b[39;00m name \u001b[38;5;129;01mnot\u001b[39;00m \u001b[38;5;129;01min\u001b[39;00m \u001b[38;5;28mself\u001b[39m\u001b[38;5;241m.\u001b[39m_accessors\n\u001b[1;32m   5572\u001b[0m     \u001b[38;5;129;01mand\u001b[39;00m \u001b[38;5;28mself\u001b[39m\u001b[38;5;241m.\u001b[39m_info_axis\u001b[38;5;241m.\u001b[39m_can_hold_identifiers_and_holds_name(name)\n\u001b[1;32m   5573\u001b[0m ):\n\u001b[1;32m   5574\u001b[0m     \u001b[38;5;28;01mreturn\u001b[39;00m \u001b[38;5;28mself\u001b[39m[name]\n\u001b[0;32m-> 5575\u001b[0m \u001b[38;5;28;01mreturn\u001b[39;00m \u001b[38;5;28;43mobject\u001b[39;49m\u001b[38;5;241;43m.\u001b[39;49m\u001b[38;5;21;43m__getattribute__\u001b[39;49m\u001b[43m(\u001b[49m\u001b[38;5;28;43mself\u001b[39;49m\u001b[43m,\u001b[49m\u001b[43m \u001b[49m\u001b[43mname\u001b[49m\u001b[43m)\u001b[49m\n",
      "\u001b[0;31mAttributeError\u001b[0m: 'Series' object has no attribute 'tax_value'"
     ]
    }
   ],
   "source": [
    "this = zillow_sets.df\n",
    "this.tax_value"
   ]
  },
  {
   "cell_type": "code",
   "execution_count": 140,
   "id": "1007f44d",
   "metadata": {},
   "outputs": [
    {
     "data": {
      "text/plain": [
       "30326    629000.0\n",
       "45106    211875.0\n",
       "43267    271496.0\n",
       "35226    540465.0\n",
       "34165    454409.0\n",
       "           ...   \n",
       "2136     164070.0\n",
       "7245     201841.0\n",
       "47146    927000.0\n",
       "24698    143786.0\n",
       "49470    437230.0\n",
       "Name: tax_value, Length: 21508, dtype: float64"
      ]
     },
     "execution_count": 140,
     "metadata": {},
     "output_type": "execute_result"
    }
   ],
   "source": [
    "zillow[2].tax_value"
   ]
  },
  {
   "cell_type": "code",
   "execution_count": 176,
   "id": "122773ba",
   "metadata": {},
   "outputs": [],
   "source": [
    "from wrangle_mvp import hr"
   ]
  },
  {
   "cell_type": "code",
   "execution_count": 187,
   "id": "bbb70f31",
   "metadata": {},
   "outputs": [],
   "source": [
    "models = pd.DataFrame(\\\n",
    "{'model_name':['Linear Regression',\n",
    "               'Lasso Lars',\n",
    "               'GLM (Tweedie Reg)',\n",
    "               ],\n",
    "'made_model': [LinearRegression(normalize=True),\n",
    "               LassoLars(alpha=1, random_state=123),\n",
    "               TweedieRegressor(power=(1), alpha=0)\n",
    "              ],}\n",
    ")\n",
    "\n",
    "# Fit the models\n",
    "models['fit_model'] = models.model_name\n",
    "for i, j in enumerate(models.made_model):\n",
    "    models['fit_model'][i] = j.fit(zillow[1], zillow[2].tax_value)\n",
    "\n",
    "# Make Model Predictors\n",
    "models['predict_model'] = models.model_name\n",
    "for i, j in enumerate(models.fit_model):\n",
    "    models.predict_model[i] = j.predict\n",
    "\n",
    "# Make metrics_df\n",
    "metric_df = make_metrics(zillow)\n",
    "\n",
    "# Fill metrics_df with predictions\n",
    "for i, j in enumerate(models.predict_model):\n",
    "    \n",
    "#     Make prediction: zillow[2] is y_train, [4] is y_validate, j is the .predict\n",
    "    zillow[2][models.model_name[i]] = j(zillow[1])\n",
    "    zillow[4][models.model_name[i]] = j(zillow[3])\n",
    "    \n",
    "# Make metrics\n",
    "        \n",
    "    rmse = mean_squared_error(zillow[2][target], j(zillow[1])) ** (1/2)\n",
    "    r2 = explained_variance_score(zillow[2][target], j(zillow[1])) \n",
    "\n",
    "    rmse_v = mean_squared_error(zillow[4][target], j(zillow[3])) ** (1/2)\n",
    "    r2_v = explained_variance_score(zillow[4][target], j(zillow[3]))\n",
    "\n",
    "    metric_df = metric_df.append([{\n",
    "        'model': models.model_name[i],\n",
    "            'rmse_train': hr(rmse),\n",
    "            'r^2': r2,\n",
    "            'rmse_validate': hr(rmse_v),\n",
    "            'r^2_validate': r2_v}])"
   ]
  },
  {
   "cell_type": "code",
   "execution_count": 188,
   "id": "7d0a9526",
   "metadata": {},
   "outputs": [
    {
     "data": {
      "text/html": [
       "<div>\n",
       "<style scoped>\n",
       "    .dataframe tbody tr th:only-of-type {\n",
       "        vertical-align: middle;\n",
       "    }\n",
       "\n",
       "    .dataframe tbody tr th {\n",
       "        vertical-align: top;\n",
       "    }\n",
       "\n",
       "    .dataframe thead th {\n",
       "        text-align: right;\n",
       "    }\n",
       "</style>\n",
       "<table border=\"1\" class=\"dataframe\">\n",
       "  <thead>\n",
       "    <tr style=\"text-align: right;\">\n",
       "      <th></th>\n",
       "      <th>model</th>\n",
       "      <th>rmse_train</th>\n",
       "      <th>r^2</th>\n",
       "      <th>rmse_validate</th>\n",
       "      <th>r^2_validate</th>\n",
       "    </tr>\n",
       "  </thead>\n",
       "  <tbody>\n",
       "    <tr>\n",
       "      <th>0</th>\n",
       "      <td>baseline</td>\n",
       "      <td>$215.9 K</td>\n",
       "      <td>-2.220446e-16</td>\n",
       "      <td>$46.7 B</td>\n",
       "      <td>0.000000</td>\n",
       "    </tr>\n",
       "    <tr>\n",
       "      <th>0</th>\n",
       "      <td>Linear Regression</td>\n",
       "      <td>$198.0 K</td>\n",
       "      <td>1.588614e-01</td>\n",
       "      <td>$200.4 K</td>\n",
       "      <td>0.140048</td>\n",
       "    </tr>\n",
       "    <tr>\n",
       "      <th>0</th>\n",
       "      <td>Lasso Lars</td>\n",
       "      <td>$198.0 K</td>\n",
       "      <td>1.588591e-01</td>\n",
       "      <td>$200.4 K</td>\n",
       "      <td>0.140093</td>\n",
       "    </tr>\n",
       "    <tr>\n",
       "      <th>0</th>\n",
       "      <td>GLM (Tweedie Reg)</td>\n",
       "      <td>$198.0 K</td>\n",
       "      <td>1.582753e-01</td>\n",
       "      <td>$200.5 K</td>\n",
       "      <td>0.139376</td>\n",
       "    </tr>\n",
       "  </tbody>\n",
       "</table>\n",
       "</div>"
      ],
      "text/plain": [
       "               model rmse_train           r^2 rmse_validate  r^2_validate\n",
       "0           baseline   $215.9 K -2.220446e-16       $46.7 B      0.000000\n",
       "0  Linear Regression   $198.0 K  1.588614e-01      $200.4 K      0.140048\n",
       "0         Lasso Lars   $198.0 K  1.588591e-01      $200.4 K      0.140093\n",
       "0  GLM (Tweedie Reg)   $198.0 K  1.582753e-01      $200.5 K      0.139376"
      ]
     },
     "execution_count": 188,
     "metadata": {},
     "output_type": "execute_result"
    }
   ],
   "source": [
    "metric_df"
   ]
  },
  {
   "cell_type": "code",
   "execution_count": 189,
   "id": "022b0200",
   "metadata": {},
   "outputs": [
    {
     "data": {
      "text/plain": [
       "[       beds  baths    area  tax_value\n",
       " 1       2.0    1.0  1465.0   464000.0\n",
       " 2       3.0    2.0  1243.0   564778.0\n",
       " 3       4.0    3.0  2376.0   145143.0\n",
       " 4       4.0    3.0  2962.0   773303.0\n",
       " 6       4.0    3.0  3039.0   220583.0\n",
       " ...     ...    ...     ...        ...\n",
       " 52269   3.0    2.0  1472.0   603333.0\n",
       " 52272   4.0    3.0  2068.0   332251.0\n",
       " 52274   4.0    2.0  1633.0   346534.0\n",
       " 52275   2.0    2.0  1286.0   354621.0\n",
       " 52278   3.0    2.0  1762.0   522000.0\n",
       " \n",
       " [35848 rows x 4 columns],\n",
       "            beds     baths      area\n",
       " 30326  0.666667  0.285714  0.202377\n",
       " 45106  0.333333  0.000000  0.060119\n",
       " 43267  0.666667  0.285714  0.253058\n",
       " 35226  0.000000  0.428571  0.148200\n",
       " 34165  0.333333  0.285714  0.441454\n",
       " ...         ...       ...       ...\n",
       " 2136   0.333333  0.285714  0.146452\n",
       " 7245   0.666667  0.285714  0.119189\n",
       " 47146  0.666667  0.285714  0.710241\n",
       " 24698  0.333333  0.571429  0.447046\n",
       " 49470  0.333333  0.285714  0.149948\n",
       " \n",
       " [21508 rows x 3 columns],\n",
       "        tax_value  baseline  value_pred_lm  value_pred_lars  value_pred_glm  \\\n",
       " 30326   629000.0    424146  361471.783399    361930.192810   363029.148136   \n",
       " 45106   211875.0    424146  319514.153931    319897.005580   329704.916260   \n",
       " 43267   271496.0    424146  382652.887382    383061.441526   379791.569512   \n",
       " 35226   540465.0    424146  406287.504122    405758.163045   402569.071796   \n",
       " 34165   454409.0    424146  491870.307421    491634.020615   480176.961618   \n",
       " ...          ...       ...            ...              ...             ...   \n",
       " 2136    164070.0    424146  368581.674580    368635.579812   369227.080172   \n",
       " 7245    201841.0    424146  326705.557550    327245.798366   337104.217568   \n",
       " 47146   927000.0    424146  573721.052970    573679.878221   570670.376690   \n",
       " 24698   143786.0    424146  507194.138276    506708.329651   500424.453035   \n",
       " 49470   437230.0    424146  370042.440372    370092.907310   370378.299806   \n",
       " \n",
       "        Linear Regression     Lasso Lars  GLM (Tweedie Reg)  \n",
       " 30326      361471.783399  361930.192810      363029.148136  \n",
       " 45106      319514.153931  319897.005580      329704.916260  \n",
       " 43267      382652.887382  383061.441526      379791.569512  \n",
       " 35226      406287.504122  405758.163045      402569.071796  \n",
       " 34165      491870.307421  491634.020615      480176.961618  \n",
       " ...                  ...            ...                ...  \n",
       " 2136       368581.674580  368635.579812      369227.080172  \n",
       " 7245       326705.557550  327245.798366      337104.217568  \n",
       " 47146      573721.052970  573679.878221      570670.376690  \n",
       " 24698      507194.138276  506708.329651      500424.453035  \n",
       " 49470      370042.440372  370092.907310      370378.299806  \n",
       " \n",
       " [21508 rows x 8 columns],\n",
       "            beds     baths      area\n",
       " 17589  0.666667  0.571429  0.548060\n",
       " 9031   0.333333  0.285714  0.347780\n",
       " 42555  0.333333  0.285714  0.377840\n",
       " 41137  0.666667  0.571429  0.397413\n",
       " 51737  0.333333  0.285714  0.166026\n",
       " ...         ...       ...       ...\n",
       " 8668   0.333333  0.285714  0.148549\n",
       " 14440  0.333333  0.000000  0.037749\n",
       " 13615  0.000000  0.000000  0.008738\n",
       " 45731  0.333333  0.000000  0.150996\n",
       " 46127  0.000000  0.000000  0.004194\n",
       " \n",
       " [7170 rows x 3 columns],\n",
       "        tax_value  baseline  value_pred_lm  value_pred_lars  value_pred_glm  \\\n",
       " 17589   603335.0    424146  518928.125811    518802.467369   512185.308329   \n",
       " 9031    915675.0    424146  452721.784197    452577.643678   441741.341007   \n",
       " 42555   315849.0    424146  465284.370008    465110.660158   453727.540098   \n",
       " 41137   450000.0    424146  455969.120178    455991.652220   447874.608121   \n",
       " 51737   533298.0    424146  376761.963015    376796.613799   375720.315025   \n",
       " ...          ...       ...            ...              ...             ...   \n",
       " 8668    418046.0    424146  369458.134055    369509.976310   369917.381849   \n",
       " 14440   159777.0    424146  310165.252863    310570.109595   323201.003733   \n",
       " 13615   333000.0    424146  328523.040642    328496.918329   336693.751413   \n",
       " 45731   202775.0    424146  357494.064522    357787.520519   357500.873042   \n",
       " 46127   185425.0    424146  326624.045112    326602.392582   335333.909616   \n",
       " \n",
       "        Linear Regression     Lasso Lars  GLM (Tweedie Reg)  \n",
       " 17589      518928.125811  518802.467369      512185.308329  \n",
       " 9031       452721.784197  452577.643678      441741.341007  \n",
       " 42555      465284.370008  465110.660158      453727.540098  \n",
       " 41137      455969.120178  455991.652220      447874.608121  \n",
       " 51737      376761.963015  376796.613799      375720.315025  \n",
       " ...                  ...            ...                ...  \n",
       " 8668       369458.134055  369509.976310      369917.381849  \n",
       " 14440      310165.252863  310570.109595      323201.003733  \n",
       " 13615      328523.040642  328496.918329      336693.751413  \n",
       " 45731      357494.064522  357787.520519      357500.873042  \n",
       " 46127      326624.045112  326602.392582      335333.909616  \n",
       " \n",
       " [7170 rows x 8 columns],\n",
       "            beds     baths      area\n",
       " 19574  0.000000  0.428571  0.229640\n",
       " 25114  0.333333  0.428571  0.392171\n",
       " 7110   0.333333  0.428571  0.227543\n",
       " 5822   0.666667  0.571429  0.298148\n",
       " 48800  0.666667  0.571429  0.419084\n",
       " ...         ...       ...       ...\n",
       " 51016  0.000000  0.000000  0.161482\n",
       " 23531  0.333333  0.285714  0.166026\n",
       " 24933  0.000000  0.285714  0.331702\n",
       " 4079   0.333333  0.571429  0.584062\n",
       " 18407  0.333333  0.285714  0.107655\n",
       " \n",
       " [7170 rows x 3 columns],\n",
       "        tax_value  baseline\n",
       " 19574   526902.0    424146\n",
       " 25114   128696.0    424146\n",
       " 7110    311214.0    424146\n",
       " 5822    258281.0    424146\n",
       " 48800   300130.0    424146\n",
       " ...          ...       ...\n",
       " 51016   386170.0    424146\n",
       " 23531   697856.0    424146\n",
       " 24933   797000.0    424146\n",
       " 4079    323032.0    424146\n",
       " 18407   331043.0    424146\n",
       " \n",
       " [7170 rows x 2 columns]]"
      ]
     },
     "execution_count": 189,
     "metadata": {},
     "output_type": "execute_result"
    }
   ],
   "source": [
    "zillow"
   ]
  },
  {
   "cell_type": "code",
   "execution_count": 183,
   "id": "a1bffedd",
   "metadata": {},
   "outputs": [
    {
     "data": {
      "text/plain": [
       "'Linear Regression'"
      ]
     },
     "execution_count": 183,
     "metadata": {},
     "output_type": "execute_result"
    }
   ],
   "source": [
    "models.model_name[0]"
   ]
  },
  {
   "cell_type": "code",
   "execution_count": 186,
   "id": "931e3afb",
   "metadata": {},
   "outputs": [
    {
     "name": "stdout",
     "output_type": "stream",
     "text": [
      "0 <bound method LinearModel.predict of LinearRegression(normalize=True)>\n",
      "1 <bound method LinearModel.predict of LassoLars(alpha=1, random_state=123)>\n",
      "2 <bound method GeneralizedLinearRegressor.predict of TweedieRegressor(alpha=0, power=1)>\n"
     ]
    }
   ],
   "source": [
    "for i, j in enumerate(models.predict_model):\n",
    "    print(i,j)"
   ]
  },
  {
   "cell_type": "code",
   "execution_count": null,
   "id": "8ed16751",
   "metadata": {},
   "outputs": [],
   "source": [
    "for i, j in enumerate(models.predict_model):\n",
    "    \n",
    "#     Make prediction: zillow[2] is y_train, [4] is y_validate, j is the .predict\n",
    "    zillow[2][models.model_name[i]] = j(zillow[1])\n",
    "    zillow[4][models.model_name[i]] = j(zillow[3])\n",
    "    \n",
    "# Make metrics\n",
    "        \n",
    "    rmse = mean_squared_error(zillow[2][target], j(zillow[1])) ** (1/2)\n",
    "    r2 = explained_variance_score(zillow[2][target], j(zillow[1])) \n",
    "\n",
    "    rmse_v = mean_squared_error(zillow[4][target], j(zillow[3])) ** (1/2)\n",
    "    r2_v = explained_variance_score(zillow[4][target], j(zillow[3]))\n",
    "\n",
    "    metric_df = metric_df.append([{\n",
    "        'model': models.model_name[i],\n",
    "            'rmse_train': hr(rmse),\n",
    "            'r^2': r2,\n",
    "            'rmse_validate': hr(rmse_v),\n",
    "            'r^2_validate': r2_v}])"
   ]
  },
  {
   "cell_type": "code",
   "execution_count": null,
   "id": "9a9844bd",
   "metadata": {},
   "outputs": [],
   "source": []
  },
  {
   "cell_type": "code",
   "execution_count": 179,
   "id": "6e240fbd",
   "metadata": {},
   "outputs": [],
   "source": [
    "# target = 'tax_value'\n",
    "\n",
    "# # Make metrics\n",
    "# rmse = mean_squared_error(zillow[2][target], zillow[2].baseline) ** (1/2)\n",
    "# r2 = explained_variance_score(zillow[2][target], zillow[2].baseline)\n",
    "\n",
    "# rmse_v = mean_squared_error(zillow[4][target], zillow[4].baseline)\n",
    "# r2_v = explained_variance_score(zillow[4].tax_value, zillow[4].baseline)\n",
    "\n",
    "# metric_df = pd.DataFrame(data=[{\n",
    "#     'model': 'baseline',\n",
    "#     'rmse_train': hr(rmse),\n",
    "#     'r^2': r2,\n",
    "#     'rmse_validate': hr(rmse_v),\n",
    "#     'r^2_validate': r2_v}])"
   ]
  },
  {
   "cell_type": "code",
   "execution_count": 181,
   "id": "f13eed78",
   "metadata": {},
   "outputs": [],
   "source": [
    "def make_metrics(zillow, target='tax_value'):\n",
    "    '''\n",
    "    takes in a list of DataFrames:\n",
    "    -------------------\n",
    "            zillow = [df, X_train, y_train, X_validate, y_validate, X_test, y_test]\n",
    "\n",
    "    and a target variable\n",
    "    '''\n",
    "\n",
    "    # Make metrics\n",
    "    rmse = mean_squared_error(zillow[2][target], zillow[2].baseline) ** (1/2)\n",
    "    r2 = explained_variance_score(zillow[2][target], zillow[2].baseline)\n",
    "\n",
    "    rmse_v = mean_squared_error(zillow[4][target], zillow[4].baseline) ** (1/2)\n",
    "    r2_v = explained_variance_score(zillow[4].tax_value, zillow[4].baseline)\n",
    "\n",
    "    metric_df = pd.DataFrame(data=[{\n",
    "        'model': 'baseline',\n",
    "        'rmse_train': hr(rmse),\n",
    "        'r^2': r2,\n",
    "        'rmse_validate': hr(rmse_v),\n",
    "        'r^2_validate': r2_v}])\n",
    "\n",
    "    return metric_df"
   ]
  },
  {
   "cell_type": "code",
   "execution_count": 180,
   "id": "0db9ebb9",
   "metadata": {},
   "outputs": [
    {
     "data": {
      "text/html": [
       "<div>\n",
       "<style scoped>\n",
       "    .dataframe tbody tr th:only-of-type {\n",
       "        vertical-align: middle;\n",
       "    }\n",
       "\n",
       "    .dataframe tbody tr th {\n",
       "        vertical-align: top;\n",
       "    }\n",
       "\n",
       "    .dataframe thead th {\n",
       "        text-align: right;\n",
       "    }\n",
       "</style>\n",
       "<table border=\"1\" class=\"dataframe\">\n",
       "  <thead>\n",
       "    <tr style=\"text-align: right;\">\n",
       "      <th></th>\n",
       "      <th>model</th>\n",
       "      <th>rmse_train</th>\n",
       "      <th>r^2</th>\n",
       "      <th>rmse_validate</th>\n",
       "      <th>r^2_validate</th>\n",
       "    </tr>\n",
       "  </thead>\n",
       "  <tbody>\n",
       "    <tr>\n",
       "      <th>0</th>\n",
       "      <td>baseline</td>\n",
       "      <td>$215.9 K</td>\n",
       "      <td>-2.220446e-16</td>\n",
       "      <td>$46.7 B</td>\n",
       "      <td>0.0</td>\n",
       "    </tr>\n",
       "  </tbody>\n",
       "</table>\n",
       "</div>"
      ],
      "text/plain": [
       "      model rmse_train           r^2 rmse_validate  r^2_validate\n",
       "0  baseline   $215.9 K -2.220446e-16       $46.7 B           0.0"
      ]
     },
     "execution_count": 180,
     "metadata": {},
     "output_type": "execute_result"
    }
   ],
   "source": [
    "metric_df"
   ]
  },
  {
   "cell_type": "code",
   "execution_count": 152,
   "id": "853e42b2",
   "metadata": {},
   "outputs": [
    {
     "data": {
      "text/html": [
       "<div>\n",
       "<style scoped>\n",
       "    .dataframe tbody tr th:only-of-type {\n",
       "        vertical-align: middle;\n",
       "    }\n",
       "\n",
       "    .dataframe tbody tr th {\n",
       "        vertical-align: top;\n",
       "    }\n",
       "\n",
       "    .dataframe thead th {\n",
       "        text-align: right;\n",
       "    }\n",
       "</style>\n",
       "<table border=\"1\" class=\"dataframe\">\n",
       "  <thead>\n",
       "    <tr style=\"text-align: right;\">\n",
       "      <th></th>\n",
       "      <th>model_name</th>\n",
       "      <th>made_model</th>\n",
       "      <th>fit_model</th>\n",
       "      <th>predict_model</th>\n",
       "    </tr>\n",
       "  </thead>\n",
       "  <tbody>\n",
       "    <tr>\n",
       "      <th>0</th>\n",
       "      <td>Linear Regression</td>\n",
       "      <td>LinearRegression(normalize=True)</td>\n",
       "      <td>LinearRegression(normalize=True)</td>\n",
       "      <td>&lt;bound method LinearModel.predict of LinearReg...</td>\n",
       "    </tr>\n",
       "    <tr>\n",
       "      <th>1</th>\n",
       "      <td>Lasso Lars</td>\n",
       "      <td>LassoLars(alpha=1, random_state=123)</td>\n",
       "      <td>LassoLars(alpha=1, random_state=123)</td>\n",
       "      <td>&lt;bound method LinearModel.predict of LassoLars...</td>\n",
       "    </tr>\n",
       "    <tr>\n",
       "      <th>2</th>\n",
       "      <td>GLM (Tweedie Reg)</td>\n",
       "      <td>TweedieRegressor(alpha=0, power=1)</td>\n",
       "      <td>TweedieRegressor(alpha=0, power=1)</td>\n",
       "      <td>&lt;bound method GeneralizedLinearRegressor.predi...</td>\n",
       "    </tr>\n",
       "  </tbody>\n",
       "</table>\n",
       "</div>"
      ],
      "text/plain": [
       "          model_name                            made_model  \\\n",
       "0  Linear Regression      LinearRegression(normalize=True)   \n",
       "1         Lasso Lars  LassoLars(alpha=1, random_state=123)   \n",
       "2  GLM (Tweedie Reg)    TweedieRegressor(alpha=0, power=1)   \n",
       "\n",
       "                              fit_model  \\\n",
       "0      LinearRegression(normalize=True)   \n",
       "1  LassoLars(alpha=1, random_state=123)   \n",
       "2    TweedieRegressor(alpha=0, power=1)   \n",
       "\n",
       "                                       predict_model  \n",
       "0  <bound method LinearModel.predict of LinearReg...  \n",
       "1  <bound method LinearModel.predict of LassoLars...  \n",
       "2  <bound method GeneralizedLinearRegressor.predi...  "
      ]
     },
     "execution_count": 152,
     "metadata": {},
     "output_type": "execute_result"
    }
   ],
   "source": [
    "models"
   ]
  },
  {
   "cell_type": "code",
   "execution_count": 160,
   "id": "e197d669",
   "metadata": {},
   "outputs": [
    {
     "data": {
      "text/plain": [
       "17589    603335.0\n",
       "9031     915675.0\n",
       "42555    315849.0\n",
       "41137    450000.0\n",
       "51737    533298.0\n",
       "           ...   \n",
       "8668     418046.0\n",
       "14440    159777.0\n",
       "13615    333000.0\n",
       "45731    202775.0\n",
       "46127    185425.0\n",
       "Name: tax_value, Length: 7170, dtype: float64"
      ]
     },
     "execution_count": 160,
     "metadata": {},
     "output_type": "execute_result"
    }
   ],
   "source": [
    "zillow[4].tax_value"
   ]
  },
  {
   "cell_type": "code",
   "execution_count": 163,
   "id": "89609647",
   "metadata": {},
   "outputs": [
    {
     "data": {
      "text/plain": [
       "array([518928.12581092, 452721.78419671, 465284.37000755, ...,\n",
       "       328523.04064178, 357494.06452209, 326624.04511223])"
      ]
     },
     "execution_count": 163,
     "metadata": {},
     "output_type": "execute_result"
    }
   ],
   "source": [
    "models.predict_model[0](X_validate)\n",
    "# (zillow[4].tax_value)\n",
    "# "
   ]
  },
  {
   "cell_type": "code",
   "execution_count": null,
   "id": "abae0f36",
   "metadata": {},
   "outputs": [],
   "source": []
  },
  {
   "cell_type": "code",
   "execution_count": null,
   "id": "551a820b",
   "metadata": {},
   "outputs": [],
   "source": []
  },
  {
   "cell_type": "code",
   "execution_count": 59,
   "id": "c494e0ec",
   "metadata": {},
   "outputs": [
    {
     "name": "stdout",
     "output_type": "stream",
     "text": [
      "\n",
      "RMSE Value_pred_lm using LinearRegression    \n",
      "--------\n",
      "Training/In-Sample:  197972.41031438438 \n",
      "---------\n",
      "Validation/Out-of-Sample:  200403.27832457158 \n",
      "\n",
      "\n",
      "RMSE Value_pred_lars using LassoLars    \n",
      "--------\n",
      "Training/In-Sample:  197972.6808731498 \n",
      "---------\n",
      "Validation/Out-of-Sample:  200398.11655464413 \n",
      "\n",
      "\n",
      "RMSE Value_pred_glm using TweedieRegressor    \n",
      "--------\n",
      "Training/In-Sample:  198041.36751348778 \n",
      "---------\n",
      "Validation/Out-of-Sample:  200481.7408834824 \n",
      "\n"
     ]
    }
   ],
   "source": [
    "# create the model objects:\n",
    "\n",
    "models = {'lin_reg': LinearRegression(normalize=True),\n",
    "          'lasso_lars': LassoLars(alpha=1, random_state=123),\n",
    "          'tweedie': TweedieRegressor(power=(1), alpha=0)\n",
    "         }\n",
    "\n",
    "lars = \n",
    "\n",
    "glm = \n",
    "\n",
    "# fit the model to our training data. We must specify the column in y_train, \n",
    "# since we have converted it to a dataframe from a series! \n",
    "# \n",
    "# fit the things\n",
    "# \n",
    "lm.fit(X_train, y_train.tax_value)\n",
    "\n",
    "lars.fit(X_train, y_train.tax_value)\n",
    "\n",
    "glm.fit(X_train, y_train.tax_value)\n",
    "\n",
    "# predict trains\n",
    "\n",
    "y_train['value_pred_lm'] = lm.predict(X_train)\n",
    "\n",
    "y_train['value_pred_lars'] = lars.predict(X_train)\n",
    "\n",
    "y_train['value_pred_glm'] = glm.predict(X_train)\n",
    "\n",
    "# set up y_train without target, and baseline\n",
    "y_trained = y_train.drop(columns=['tax_value', 'baseline'])\n",
    "\n",
    "# make a list of the models for predicting\n",
    "models = [lm.predict, lars.predict, glm.predict]\n",
    "\n",
    "# names of the models for displaying\n",
    "model_names = ['LinearRegression', 'LassoLars', 'TweedieRegressor']\n",
    "\n",
    "# for loop to get the RMSE of each of the models and print them\n",
    "for i, j in enumerate(y_trained):\n",
    "    # evaluate: rmse\n",
    "    rmse_train = mean_squared_error(y_train.tax_value, y_trained[j]) ** (1/2)\n",
    "\n",
    "    # predict validate\n",
    "    y_validate[j] = models[i](X_validate)\n",
    "\n",
    "    # evaluate: rmse\n",
    "    rmse_validate = mean_squared_error(y_validate.tax_value, y_validate[j]) ** (1/2)\n",
    "\n",
    "    print(f\"\\nRMSE {j.capitalize()} using {model_names[i]}\\\n",
    "    \\n--------\\nTraining/In-Sample: \", rmse_train, \n",
    "          \"\\n---------\\nValidation/Out-of-Sample: \", rmse_validate,\"\\n\")\n"
   ]
  },
  {
   "cell_type": "code",
   "execution_count": 58,
   "id": "9f8a98f2",
   "metadata": {},
   "outputs": [
    {
     "name": "stdout",
     "output_type": "stream",
     "text": [
      "\n",
      "RMSE Value_pred_lm using LinearRegression\n",
      "--------\n",
      "Training/In-Sample:  197972.41031438438 \n",
      "---------\n",
      "Validation/Out-of-Sample:  200403.27832457158 \n",
      "\n",
      "\n",
      "RMSE Value_pred_lars using LassoLars\n",
      "--------\n",
      "Training/In-Sample:  197972.6808731498 \n",
      "---------\n",
      "Validation/Out-of-Sample:  200398.11655464413 \n",
      "\n",
      "\n",
      "RMSE Value_pred_glm using TweedieRegressor\n",
      "--------\n",
      "Training/In-Sample:  198041.36751348778 \n",
      "---------\n",
      "Validation/Out-of-Sample:  200481.7408834824 \n",
      "\n"
     ]
    }
   ],
   "source": [
    "###################################\n",
    "#\n",
    "#      WOW... Don't do this: ⬇︎\n",
    "###################################\n",
    "#\n",
    "# for i in y_trained:\n",
    "#     for n in range(0,len(y_trained.columns)):\n",
    "#         if i == y_trained.columns[n]:\n",
    "#             j = models[n]\n",
    "#             k = model_names[n]\n",
    "# \n",
    "###################################\n",
    "#\n",
    "#  One line using enumerate works way better!\n",
    "###################################\n",
    "#\n",
    "# for i, j in enumerate(y_trained):\n",
    "#   \n",
    "#     rmse_train = mean_squared_error(y_train.tax_value, y_trained[j]) ** (1/2)\n",
    "#   \n",
    "#     y_validate[j] = models[i](X_validate)\n",
    "#    \n",
    "#     rmse_validate = mean_squared_error(y_validate.tax_value, y_validate[j]) ** (1/2)\n",
    "#\n",
    "#     print(f\"\\nRMSE {j.capitalize()} using {model_names[i]}\\\n",
    "#             \\n--------\\nTraining/In-Sample: \", rmse_train, \n",
    "#            \"\\n---------\\nValidation/Out-of-Sample: \", rmse_validate,\"\\n\")\n",
    "#\n",
    "###################################"
   ]
  },
  {
   "cell_type": "code",
   "execution_count": 69,
   "id": "f18c485f",
   "metadata": {},
   "outputs": [
    {
     "ename": "NameError",
     "evalue": "name 'explained_variance_score' is not defined",
     "output_type": "error",
     "traceback": [
      "\u001b[0;31m---------------------------------------------------------------------------\u001b[0m",
      "\u001b[0;31mNameError\u001b[0m                                 Traceback (most recent call last)",
      "Input \u001b[0;32mIn [69]\u001b[0m, in \u001b[0;36m<cell line: 1>\u001b[0;34m()\u001b[0m\n\u001b[1;32m      1\u001b[0m metric_df \u001b[38;5;241m=\u001b[39m pd\u001b[38;5;241m.\u001b[39mDataFrame(data\u001b[38;5;241m=\u001b[39m[{\n\u001b[1;32m      2\u001b[0m     \u001b[38;5;124m'\u001b[39m\u001b[38;5;124mmodel\u001b[39m\u001b[38;5;124m'\u001b[39m: \u001b[38;5;124m'\u001b[39m\u001b[38;5;124mmean_baseline\u001b[39m\u001b[38;5;124m'\u001b[39m,\n\u001b[1;32m      3\u001b[0m     \u001b[38;5;124m'\u001b[39m\u001b[38;5;124mrmse_validate\u001b[39m\u001b[38;5;124m'\u001b[39m: rmse_validate,\n\u001b[0;32m----> 4\u001b[0m     \u001b[38;5;124m'\u001b[39m\u001b[38;5;124mr^2_validate\u001b[39m\u001b[38;5;124m'\u001b[39m: \u001b[43mexplained_variance_score\u001b[49m(y_validate\u001b[38;5;241m.\u001b[39mtax_value, y_validate\u001b[38;5;241m.\u001b[39mbaseline)}])\n\u001b[1;32m      6\u001b[0m metric_df \u001b[38;5;241m=\u001b[39m metric_df\u001b[38;5;241m.\u001b[39mappend(\n\u001b[1;32m      7\u001b[0m     {\n\u001b[1;32m      8\u001b[0m     \u001b[38;5;124m'\u001b[39m\u001b[38;5;124mmodel\u001b[39m\u001b[38;5;124m'\u001b[39m: \u001b[38;5;124m'\u001b[39m\u001b[38;5;124mOLS lm 1\u001b[39m\u001b[38;5;124m'\u001b[39m,\n\u001b[1;32m      9\u001b[0m     \u001b[38;5;124m'\u001b[39m\u001b[38;5;124mrmse_validate\u001b[39m\u001b[38;5;124m'\u001b[39m: rmse_validate,\n\u001b[1;32m     10\u001b[0m     \u001b[38;5;124m'\u001b[39m\u001b[38;5;124mr^2_validate\u001b[39m\u001b[38;5;124m'\u001b[39m: explained_variance_score(y_validate\u001b[38;5;241m.\u001b[39mG3, y_validate\u001b[38;5;241m.\u001b[39mG3_pred_lm)}, ignore_index\u001b[38;5;241m=\u001b[39m\u001b[38;5;28;01mTrue\u001b[39;00m)\n",
      "\u001b[0;31mNameError\u001b[0m: name 'explained_variance_score' is not defined"
     ]
    }
   ],
   "source": [
    "metric_df = pd.DataFrame(data=[{\n",
    "    'model': 'mean_baseline',\n",
    "    'rmse_validate': rmse_validate,\n",
    "    'r^2_validate': explained_variance_score(y_validate.tax_value, y_validate.baseline)}])\n",
    "\n",
    "metric_df = metric_df.append(\n",
    "    {\n",
    "    'model': 'OLS lm 1',\n",
    "    'rmse_validate': rmse_validate,\n",
    "    'r^2_validate': explained_variance_score(y_validate.G3, y_validate.G3_pred_lm)}, ignore_index=True)"
   ]
  },
  {
   "cell_type": "markdown",
   "id": "38d2ffdc",
   "metadata": {},
   "source": [
    "[from sklearn.metrics import explained_variance_score](#imports)"
   ]
  },
  {
   "cell_type": "code",
   "execution_count": 50,
   "id": "87eedf16",
   "metadata": {
    "scrolled": true
   },
   "outputs": [
    {
     "data": {
      "text/html": [
       "<div>\n",
       "<style scoped>\n",
       "    .dataframe tbody tr th:only-of-type {\n",
       "        vertical-align: middle;\n",
       "    }\n",
       "\n",
       "    .dataframe tbody tr th {\n",
       "        vertical-align: top;\n",
       "    }\n",
       "\n",
       "    .dataframe thead th {\n",
       "        text-align: right;\n",
       "    }\n",
       "</style>\n",
       "<table border=\"1\" class=\"dataframe\">\n",
       "  <thead>\n",
       "    <tr style=\"text-align: right;\">\n",
       "      <th></th>\n",
       "      <th>value_pred_lm</th>\n",
       "      <th>value_pred_lars</th>\n",
       "      <th>value_pred_glm</th>\n",
       "    </tr>\n",
       "  </thead>\n",
       "  <tbody>\n",
       "    <tr>\n",
       "      <th>30326</th>\n",
       "      <td>361471.783399</td>\n",
       "      <td>361930.192810</td>\n",
       "      <td>363029.148136</td>\n",
       "    </tr>\n",
       "    <tr>\n",
       "      <th>45106</th>\n",
       "      <td>319514.153931</td>\n",
       "      <td>319897.005580</td>\n",
       "      <td>329704.916260</td>\n",
       "    </tr>\n",
       "    <tr>\n",
       "      <th>43267</th>\n",
       "      <td>382652.887382</td>\n",
       "      <td>383061.441526</td>\n",
       "      <td>379791.569512</td>\n",
       "    </tr>\n",
       "    <tr>\n",
       "      <th>35226</th>\n",
       "      <td>406287.504122</td>\n",
       "      <td>405758.163045</td>\n",
       "      <td>402569.071796</td>\n",
       "    </tr>\n",
       "    <tr>\n",
       "      <th>34165</th>\n",
       "      <td>491870.307421</td>\n",
       "      <td>491634.020615</td>\n",
       "      <td>480176.961618</td>\n",
       "    </tr>\n",
       "    <tr>\n",
       "      <th>...</th>\n",
       "      <td>...</td>\n",
       "      <td>...</td>\n",
       "      <td>...</td>\n",
       "    </tr>\n",
       "    <tr>\n",
       "      <th>2136</th>\n",
       "      <td>368581.674580</td>\n",
       "      <td>368635.579812</td>\n",
       "      <td>369227.080172</td>\n",
       "    </tr>\n",
       "    <tr>\n",
       "      <th>7245</th>\n",
       "      <td>326705.557550</td>\n",
       "      <td>327245.798366</td>\n",
       "      <td>337104.217568</td>\n",
       "    </tr>\n",
       "    <tr>\n",
       "      <th>47146</th>\n",
       "      <td>573721.052970</td>\n",
       "      <td>573679.878221</td>\n",
       "      <td>570670.376690</td>\n",
       "    </tr>\n",
       "    <tr>\n",
       "      <th>24698</th>\n",
       "      <td>507194.138276</td>\n",
       "      <td>506708.329651</td>\n",
       "      <td>500424.453035</td>\n",
       "    </tr>\n",
       "    <tr>\n",
       "      <th>49470</th>\n",
       "      <td>370042.440372</td>\n",
       "      <td>370092.907310</td>\n",
       "      <td>370378.299806</td>\n",
       "    </tr>\n",
       "  </tbody>\n",
       "</table>\n",
       "<p>21508 rows × 3 columns</p>\n",
       "</div>"
      ],
      "text/plain": [
       "       value_pred_lm  value_pred_lars  value_pred_glm\n",
       "30326  361471.783399    361930.192810   363029.148136\n",
       "45106  319514.153931    319897.005580   329704.916260\n",
       "43267  382652.887382    383061.441526   379791.569512\n",
       "35226  406287.504122    405758.163045   402569.071796\n",
       "34165  491870.307421    491634.020615   480176.961618\n",
       "...              ...              ...             ...\n",
       "2136   368581.674580    368635.579812   369227.080172\n",
       "7245   326705.557550    327245.798366   337104.217568\n",
       "47146  573721.052970    573679.878221   570670.376690\n",
       "24698  507194.138276    506708.329651   500424.453035\n",
       "49470  370042.440372    370092.907310   370378.299806\n",
       "\n",
       "[21508 rows x 3 columns]"
      ]
     },
     "execution_count": 50,
     "metadata": {},
     "output_type": "execute_result"
    }
   ],
   "source": [
    "y_trained"
   ]
  },
  {
   "cell_type": "code",
   "execution_count": 56,
   "id": "be13024a",
   "metadata": {},
   "outputs": [
    {
     "data": {
      "text/html": [
       "<div>\n",
       "<style scoped>\n",
       "    .dataframe tbody tr th:only-of-type {\n",
       "        vertical-align: middle;\n",
       "    }\n",
       "\n",
       "    .dataframe tbody tr th {\n",
       "        vertical-align: top;\n",
       "    }\n",
       "\n",
       "    .dataframe thead th {\n",
       "        text-align: right;\n",
       "    }\n",
       "</style>\n",
       "<table border=\"1\" class=\"dataframe\">\n",
       "  <thead>\n",
       "    <tr style=\"text-align: right;\">\n",
       "      <th></th>\n",
       "      <th>tax_value</th>\n",
       "      <th>baseline</th>\n",
       "      <th>value_pred_lm</th>\n",
       "      <th>value_pred_lars</th>\n",
       "      <th>value_pred_glm</th>\n",
       "    </tr>\n",
       "  </thead>\n",
       "  <tbody>\n",
       "    <tr>\n",
       "      <th>17589</th>\n",
       "      <td>603335.0</td>\n",
       "      <td>424146</td>\n",
       "      <td>518928.125811</td>\n",
       "      <td>518802.467369</td>\n",
       "      <td>512185.308329</td>\n",
       "    </tr>\n",
       "    <tr>\n",
       "      <th>9031</th>\n",
       "      <td>915675.0</td>\n",
       "      <td>424146</td>\n",
       "      <td>452721.784197</td>\n",
       "      <td>452577.643678</td>\n",
       "      <td>441741.341007</td>\n",
       "    </tr>\n",
       "    <tr>\n",
       "      <th>42555</th>\n",
       "      <td>315849.0</td>\n",
       "      <td>424146</td>\n",
       "      <td>465284.370008</td>\n",
       "      <td>465110.660158</td>\n",
       "      <td>453727.540098</td>\n",
       "    </tr>\n",
       "    <tr>\n",
       "      <th>41137</th>\n",
       "      <td>450000.0</td>\n",
       "      <td>424146</td>\n",
       "      <td>455969.120178</td>\n",
       "      <td>455991.652220</td>\n",
       "      <td>447874.608121</td>\n",
       "    </tr>\n",
       "    <tr>\n",
       "      <th>51737</th>\n",
       "      <td>533298.0</td>\n",
       "      <td>424146</td>\n",
       "      <td>376761.963015</td>\n",
       "      <td>376796.613799</td>\n",
       "      <td>375720.315025</td>\n",
       "    </tr>\n",
       "    <tr>\n",
       "      <th>...</th>\n",
       "      <td>...</td>\n",
       "      <td>...</td>\n",
       "      <td>...</td>\n",
       "      <td>...</td>\n",
       "      <td>...</td>\n",
       "    </tr>\n",
       "    <tr>\n",
       "      <th>8668</th>\n",
       "      <td>418046.0</td>\n",
       "      <td>424146</td>\n",
       "      <td>369458.134055</td>\n",
       "      <td>369509.976310</td>\n",
       "      <td>369917.381849</td>\n",
       "    </tr>\n",
       "    <tr>\n",
       "      <th>14440</th>\n",
       "      <td>159777.0</td>\n",
       "      <td>424146</td>\n",
       "      <td>310165.252863</td>\n",
       "      <td>310570.109595</td>\n",
       "      <td>323201.003733</td>\n",
       "    </tr>\n",
       "    <tr>\n",
       "      <th>13615</th>\n",
       "      <td>333000.0</td>\n",
       "      <td>424146</td>\n",
       "      <td>328523.040642</td>\n",
       "      <td>328496.918329</td>\n",
       "      <td>336693.751413</td>\n",
       "    </tr>\n",
       "    <tr>\n",
       "      <th>45731</th>\n",
       "      <td>202775.0</td>\n",
       "      <td>424146</td>\n",
       "      <td>357494.064522</td>\n",
       "      <td>357787.520519</td>\n",
       "      <td>357500.873042</td>\n",
       "    </tr>\n",
       "    <tr>\n",
       "      <th>46127</th>\n",
       "      <td>185425.0</td>\n",
       "      <td>424146</td>\n",
       "      <td>326624.045112</td>\n",
       "      <td>326602.392582</td>\n",
       "      <td>335333.909616</td>\n",
       "    </tr>\n",
       "  </tbody>\n",
       "</table>\n",
       "<p>7170 rows × 5 columns</p>\n",
       "</div>"
      ],
      "text/plain": [
       "       tax_value  baseline  value_pred_lm  value_pred_lars  value_pred_glm\n",
       "17589   603335.0    424146  518928.125811    518802.467369   512185.308329\n",
       "9031    915675.0    424146  452721.784197    452577.643678   441741.341007\n",
       "42555   315849.0    424146  465284.370008    465110.660158   453727.540098\n",
       "41137   450000.0    424146  455969.120178    455991.652220   447874.608121\n",
       "51737   533298.0    424146  376761.963015    376796.613799   375720.315025\n",
       "...          ...       ...            ...              ...             ...\n",
       "8668    418046.0    424146  369458.134055    369509.976310   369917.381849\n",
       "14440   159777.0    424146  310165.252863    310570.109595   323201.003733\n",
       "13615   333000.0    424146  328523.040642    328496.918329   336693.751413\n",
       "45731   202775.0    424146  357494.064522    357787.520519   357500.873042\n",
       "46127   185425.0    424146  326624.045112    326602.392582   335333.909616\n",
       "\n",
       "[7170 rows x 5 columns]"
      ]
     },
     "execution_count": 56,
     "metadata": {},
     "output_type": "execute_result"
    }
   ],
   "source": [
    "y_validate"
   ]
  },
  {
   "cell_type": "code",
   "execution_count": 43,
   "id": "420f3ba3",
   "metadata": {},
   "outputs": [],
   "source": [
    "lm = LinearRegression(normalize=True)\n",
    "\n",
    "lars = LassoLars(alpha=1)\n",
    "\n",
    "glm = TweedieRegressor(power=(1), alpha=0)\n",
    "\n",
    "lm.fit(X_train, y_train.tax_value)\n",
    "\n",
    "lars.fit(X_train, y_train.tax_value)\n",
    "\n",
    "glm.fit(X_train, y_train.tax_value)\n",
    "\n",
    "models = [lm.predict, lars.predict, glm.predict]\n"
   ]
  },
  {
   "cell_type": "code",
   "execution_count": 44,
   "id": "096f7df3",
   "metadata": {},
   "outputs": [
    {
     "name": "stdout",
     "output_type": "stream",
     "text": [
      "[361471.7833989  319514.15393119 382652.88738229 ... 573721.05297037\n",
      " 507194.13827571 370042.4403719 ]\n",
      "[361930.19281006 319897.00557983 383061.44152627 ... 573679.87822147\n",
      " 506708.32965107 370092.90730954]\n",
      "[363029.14813578 329704.91625998 379791.56951165 ... 570670.37669045\n",
      " 500424.45303546 370378.29980627]\n"
     ]
    }
   ],
   "source": [
    "for i in models:\n",
    "    output = i(X_train)\n",
    "    print(output)"
   ]
  },
  {
   "cell_type": "code",
   "execution_count": null,
   "id": "7e361978",
   "metadata": {},
   "outputs": [],
   "source": []
  },
  {
   "cell_type": "code",
   "execution_count": 42,
   "id": "f2b4ae74",
   "metadata": {},
   "outputs": [
    {
     "name": "stdout",
     "output_type": "stream",
     "text": [
      "tax_value beds\n",
      "baseline baths\n",
      "value_pred_lm area\n"
     ]
    }
   ],
   "source": [
    "for i in y_train:\n",
    "    for n in range(0,len(y_train.columns)):\n",
    "        if i == y_train.columns[n]:\n",
    "            j = X_train.columns[n]\n",
    "            print(i, j)\n",
    "    continue\n",
    "        \n",
    "\n",
    "#     for j in X_train:\n",
    "#         print(i,j)\n"
   ]
  },
  {
   "cell_type": "code",
   "execution_count": null,
   "id": "486139c6",
   "metadata": {},
   "outputs": [],
   "source": [
    "# create the model object\n",
    "lars = LassoLars(alpha=1)\n",
    "\n",
    "# fit the model to our training data. We must specify the column in y_train, \n",
    "# since we have converted it to a dataframe from a series!\n",
    "lars.fit(X_train, y_train.G3)\n",
    "\n",
    "# predict train\n",
    "y_train['G3_pred_lars'] = lars.predict(X_train)\n",
    "\n",
    "# evaluate: rmse\n",
    "rmse_train = mean_squared_error(y_train.G3, y_train.G3_pred_lars) ** 0.5\n",
    "\n",
    "# predict validate\n",
    "y_validate['G3_pred_lars'] = lars.predict(X_validate)\n",
    "\n",
    "# evaluate: rmse\n",
    "rmse_validate = mean_squared_error(y_validate.G3, y_validate.G3_pred_lars) ** 0.5\n",
    "\n",
    "print(\"RMSE for Lasso + Lars\\nTraining/In-Sample: \", rmse_train, \n",
    "      \"\\nValidation/Out-of-Sample: \", rmse_validate)"
   ]
  },
  {
   "cell_type": "code",
   "execution_count": null,
   "id": "f80485b9",
   "metadata": {},
   "outputs": [],
   "source": [
    "# create the model object\n",
    "glm = TweedieRegressor(power=(1), alpha=0)\n",
    "\n",
    "# fit the model to our training data. We must specify the column in y_train, \n",
    "# since we have converted it to a dataframe from a series! \n",
    "\n",
    "glm.fit(X_train, y_train.G3)\n",
    "\n",
    "# predict train\n",
    "y_train['G3_pred_glm'] = glm.predict(X_train)\n",
    "\n",
    "# evaluate: rmse\n",
    "rmse_train = mean_squared_error(y_train.G3, y_train.G3_pred_glm) ** 0.5\n",
    "\n",
    "\n",
    "# predict validate\n",
    "y_validate['G3_pred_glm'] = glm.predict(X_validate)\n",
    "\n",
    "# evaluate: rmse\n",
    "rmse_validate = mean_squared_error(y_validate.G3, y_validate.G3_pred_glm) ** 0.5\n",
    "\n",
    "\n",
    "print(\"RMSE for GLM using Tweedie, power=1 & alpha=0\\nTraining/In-Sample: \", rmse_train, \n",
    "      \"\\nValidation/Out-of-Sample: \", rmse_validate)"
   ]
  },
  {
   "cell_type": "code",
   "execution_count": null,
   "id": "45e02ebc",
   "metadata": {},
   "outputs": [],
   "source": []
  },
  {
   "cell_type": "code",
   "execution_count": null,
   "id": "c3a45ef0",
   "metadata": {},
   "outputs": [],
   "source": []
  },
  {
   "cell_type": "markdown",
   "id": "73b95d70",
   "metadata": {},
   "source": [
    "## **PolynomialFeatures**"
   ]
  },
  {
   "cell_type": "code",
   "execution_count": 38,
   "id": "91f38a45",
   "metadata": {},
   "outputs": [],
   "source": [
    "# make the polynomial features to get a new set of features\n",
    "pf = PolynomialFeatures(degree=2)\n",
    "\n",
    "# fit and transform X_train_scaled\n",
    "X_train_degree2 = pf.fit_transform(X_train)\n",
    "\n",
    "# transform X_validate_scaled & X_test_scaled\n",
    "X_validate_degree2 = pf.transform(X_validate)\n",
    "X_test_degree2 = pf.transform(X_test)"
   ]
  },
  {
   "cell_type": "code",
   "execution_count": 40,
   "id": "a7003624",
   "metadata": {},
   "outputs": [
    {
     "data": {
      "text/plain": [
       "0.21856331420429942"
      ]
     },
     "execution_count": 40,
     "metadata": {},
     "output_type": "execute_result"
    }
   ],
   "source": [
    "X_train_degree2.mean()"
   ]
  },
  {
   "cell_type": "markdown",
   "id": "47ad77c8",
   "metadata": {},
   "source": [
    "## **LinearRegression**"
   ]
  },
  {
   "cell_type": "code",
   "execution_count": 41,
   "id": "13663b16",
   "metadata": {},
   "outputs": [
    {
     "data": {
      "text/plain": [
       "LinearRegression(normalize=True)"
      ]
     },
     "execution_count": 41,
     "metadata": {},
     "output_type": "execute_result"
    }
   ],
   "source": [
    "# create the model object\n",
    "# \n",
    "# make the thing\n",
    "# \n",
    "lm2 = LinearRegression(normalize=True)\n",
    "\n",
    "# fit the model to our training data. We must specify the column in y_train, \n",
    "# since we have converted it to a dataframe from a series! \n",
    "# \n",
    "# fit the thing\n",
    "# \n",
    "lm2.fit(X_train_degree2, y_train.G3)"
   ]
  },
  {
   "cell_type": "code",
   "execution_count": 42,
   "id": "c01b3bc4",
   "metadata": {},
   "outputs": [
    {
     "name": "stdout",
     "output_type": "stream",
     "text": [
      "RMSE for OLS using LinearRegression\n",
      "Training/In-Sample:  1.0440447820961483 \n",
      "Validation/Out-of-Sample:  3.4223421545589923\n"
     ]
    }
   ],
   "source": [
    "# predict train\n",
    "# \n",
    "# use the thing!\n",
    "# \n",
    "y_train['G3_pred_lm2'] = lm2.predict(X_train_degree2)\n",
    "\n",
    "# evaluate: rmse\n",
    "rmse_train = mean_squared_error(y_train.G3, y_train.G3_pred_lm2) ** (1/2)\n",
    "# predict validate\n",
    "y_validate['G3_pred_lm2'] = lm2.predict(X_validate_degree2)\n",
    "\n",
    "# evaluate: rmse\n",
    "rmse_validate = mean_squared_error(y_validate.G3, y_validate.G3_pred_lm2) ** (1/2)\n",
    "\n",
    "print(\"RMSE for OLS using LinearRegression\\nTraining/In-Sample: \", rmse_train, \n",
    "      \"\\nValidation/Out-of-Sample: \", rmse_validate)"
   ]
  },
  {
   "cell_type": "code",
   "execution_count": null,
   "id": "1fce94fa",
   "metadata": {},
   "outputs": [],
   "source": []
  },
  {
   "cell_type": "code",
   "execution_count": null,
   "id": "0ca05cc6",
   "metadata": {},
   "outputs": [],
   "source": [
    "models, trained models, "
   ]
  },
  {
   "cell_type": "code",
   "execution_count": null,
   "id": "c812d4f4",
   "metadata": {},
   "outputs": [],
   "source": []
  },
  {
   "cell_type": "code",
   "execution_count": null,
   "id": "74154bde",
   "metadata": {},
   "outputs": [],
   "source": []
  },
  {
   "cell_type": "markdown",
   "id": "ccfe1bb1",
   "metadata": {},
   "source": [
    "bring in lot size, lot vs house, bed+bath combined, px.mapbox, "
   ]
  },
  {
   "cell_type": "markdown",
   "id": "a536dde7",
   "metadata": {},
   "source": [
    "# Final Cell\n",
    "<br><br><br><br><br><br><br><br><br><br><br><br><br><br><br><br><br><br><br><br><br><br><br><br><br><br><br><br><br><br><br><br><br><br><br><br><br><br><br><br><br><br><br><br><br><br><br><br><br><br><br><br><br><br><br>"
   ]
  }
 ],
 "metadata": {
  "kernelspec": {
   "display_name": "Python 3 (ipykernel)",
   "language": "python",
   "name": "python3"
  },
  "language_info": {
   "codemirror_mode": {
    "name": "ipython",
    "version": 3
   },
   "file_extension": ".py",
   "mimetype": "text/x-python",
   "name": "python",
   "nbconvert_exporter": "python",
   "pygments_lexer": "ipython3",
   "version": "3.9.12"
  }
 },
 "nbformat": 4,
 "nbformat_minor": 5
}
