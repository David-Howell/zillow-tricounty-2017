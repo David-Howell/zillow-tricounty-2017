{
 "cells": [
  {
   "cell_type": "markdown",
   "id": "e074f907",
   "metadata": {},
   "source": [
    "<a id=\"TOP\"> </a>\n",
    "<div class=\"alert alert-block alert-info\">\n",
    "</div>\n",
    "\n",
    "***"
   ]
  },
  {
   "cell_type": "code",
   "execution_count": 1,
   "id": "fe9b51e0",
   "metadata": {},
   "outputs": [],
   "source": [
    "import pandas as pd\n",
    "import numpy as np\n",
    "import matplotlib.pyplot as plt\n",
    "# from wrangle_mvp import clean_zillow\n",
    "# from wrangle_mvp import boxplots, hists, split_data_continuous, model_sets, \n",
    "from wrangle_mvp import get_models\n",
    "import seaborn as sns"
   ]
  },
  {
   "cell_type": "code",
   "execution_count": 2,
   "id": "83d213ee",
   "metadata": {},
   "outputs": [],
   "source": [
    "# df = clean_zillow()"
   ]
  },
  {
   "cell_type": "code",
   "execution_count": 3,
   "id": "04427fd1",
   "metadata": {},
   "outputs": [],
   "source": [
    "# df.info()"
   ]
  },
  {
   "cell_type": "code",
   "execution_count": 4,
   "id": "04e626dd",
   "metadata": {},
   "outputs": [],
   "source": [
    "# train, validate, test = split_data_continuous(df, with_baseline=True)"
   ]
  },
  {
   "cell_type": "code",
   "execution_count": 5,
   "id": "1e0f9deb",
   "metadata": {},
   "outputs": [],
   "source": [
    "# X_train, y_train, X_validate, y_validate, X_test, y_test = model_sets(train, validate, test)"
   ]
  },
  {
   "cell_type": "code",
   "execution_count": 39,
   "id": "ccbe4929",
   "metadata": {},
   "outputs": [],
   "source": [
    "# def get_models():\n",
    "#     df = clean_zillow()\n",
    "    \n",
    "#     train, validate, test = split_data_continuous(df, with_baseline=True)\n",
    "    \n",
    "#     X_train, y_train, X_validate, y_validate, X_test, y_test = model_sets(train, validate, test)\n",
    "    \n",
    "#     zillow = [df, X_train, y_train, X_validate, y_validate, X_test, y_test]\n",
    "    \n",
    "#     zillow, models, metric_df = make_models(zillow)\n",
    "    \n",
    "#     return zillow, models, metric_df"
   ]
  },
  {
   "cell_type": "code",
   "execution_count": 2,
   "id": "ce1c37f4",
   "metadata": {},
   "outputs": [
    {
     "name": "stdout",
     "output_type": "stream",
     "text": [
      "Number of observations removed: 5516\n",
      "Prepared df: (35848, 4)\n",
      "\n",
      "Train: (21508, 4)\n",
      "Validate: (7170, 4)\n",
      "Test: (7170, 4)\n",
      "The mean_preds had the lowest RMSE: 215859 with an in/out of: 0.999\n",
      "\n",
      "X_cols = ['beds', 'baths', 'area']\n",
      "\n",
      "y_cols = ['tax_value', 'baseline']\n",
      "\n",
      "\n"
     ]
    }
   ],
   "source": [
    "zillow, models, metric_df = get_models()"
   ]
  },
  {
   "cell_type": "code",
   "execution_count": 66,
   "id": "6bc5ee95",
   "metadata": {},
   "outputs": [],
   "source": [
    "X_cols = ['beds', 'baths', 'area']\n",
    "\n",
    "y_cols = ['tax_value', 'baseline']"
   ]
  },
  {
   "cell_type": "code",
   "execution_count": 3,
   "id": "8f791d66",
   "metadata": {},
   "outputs": [
    {
     "data": {
      "text/html": [
       "<div>\n",
       "<style scoped>\n",
       "    .dataframe tbody tr th:only-of-type {\n",
       "        vertical-align: middle;\n",
       "    }\n",
       "\n",
       "    .dataframe tbody tr th {\n",
       "        vertical-align: top;\n",
       "    }\n",
       "\n",
       "    .dataframe thead th {\n",
       "        text-align: right;\n",
       "    }\n",
       "</style>\n",
       "<table border=\"1\" class=\"dataframe\">\n",
       "  <thead>\n",
       "    <tr style=\"text-align: right;\">\n",
       "      <th></th>\n",
       "      <th>model_name</th>\n",
       "      <th>made_model</th>\n",
       "      <th>fit_model</th>\n",
       "      <th>predict_model</th>\n",
       "    </tr>\n",
       "  </thead>\n",
       "  <tbody>\n",
       "    <tr>\n",
       "      <th>0</th>\n",
       "      <td>Linear Regression</td>\n",
       "      <td>LinearRegression(normalize=True)</td>\n",
       "      <td>LinearRegression(normalize=True)</td>\n",
       "      <td>&lt;bound method LinearModel.predict of LinearReg...</td>\n",
       "    </tr>\n",
       "    <tr>\n",
       "      <th>1</th>\n",
       "      <td>Lasso Lars</td>\n",
       "      <td>LassoLars(alpha=1, random_state=123)</td>\n",
       "      <td>LassoLars(alpha=1, random_state=123)</td>\n",
       "      <td>&lt;bound method LinearModel.predict of LassoLars...</td>\n",
       "    </tr>\n",
       "    <tr>\n",
       "      <th>2</th>\n",
       "      <td>GLM (Tweedie Reg)</td>\n",
       "      <td>TweedieRegressor(alpha=0, power=1)</td>\n",
       "      <td>TweedieRegressor(alpha=0, power=1)</td>\n",
       "      <td>&lt;bound method GeneralizedLinearRegressor.predi...</td>\n",
       "    </tr>\n",
       "  </tbody>\n",
       "</table>\n",
       "</div>"
      ],
      "text/plain": [
       "          model_name                            made_model  \\\n",
       "0  Linear Regression      LinearRegression(normalize=True)   \n",
       "1         Lasso Lars  LassoLars(alpha=1, random_state=123)   \n",
       "2  GLM (Tweedie Reg)    TweedieRegressor(alpha=0, power=1)   \n",
       "\n",
       "                              fit_model  \\\n",
       "0      LinearRegression(normalize=True)   \n",
       "1  LassoLars(alpha=1, random_state=123)   \n",
       "2    TweedieRegressor(alpha=0, power=1)   \n",
       "\n",
       "                                       predict_model  \n",
       "0  <bound method LinearModel.predict of LinearReg...  \n",
       "1  <bound method LinearModel.predict of LassoLars...  \n",
       "2  <bound method GeneralizedLinearRegressor.predi...  "
      ]
     },
     "execution_count": 3,
     "metadata": {},
     "output_type": "execute_result"
    }
   ],
   "source": [
    "models"
   ]
  },
  {
   "cell_type": "code",
   "execution_count": 4,
   "id": "65d7f610",
   "metadata": {},
   "outputs": [
    {
     "data": {
      "text/html": [
       "<div>\n",
       "<style scoped>\n",
       "    .dataframe tbody tr th:only-of-type {\n",
       "        vertical-align: middle;\n",
       "    }\n",
       "\n",
       "    .dataframe tbody tr th {\n",
       "        vertical-align: top;\n",
       "    }\n",
       "\n",
       "    .dataframe thead th {\n",
       "        text-align: right;\n",
       "    }\n",
       "</style>\n",
       "<table border=\"1\" class=\"dataframe\">\n",
       "  <thead>\n",
       "    <tr style=\"text-align: right;\">\n",
       "      <th></th>\n",
       "      <th>model</th>\n",
       "      <th>rmse_train</th>\n",
       "      <th>r^2</th>\n",
       "      <th>rmse_validate</th>\n",
       "      <th>r^2_validate</th>\n",
       "    </tr>\n",
       "  </thead>\n",
       "  <tbody>\n",
       "    <tr>\n",
       "      <th>0</th>\n",
       "      <td>baseline</td>\n",
       "      <td>$215.9 K</td>\n",
       "      <td>-2.220446e-16</td>\n",
       "      <td>$216.1 K</td>\n",
       "      <td>0.000000</td>\n",
       "    </tr>\n",
       "    <tr>\n",
       "      <th>0</th>\n",
       "      <td>Linear Regression</td>\n",
       "      <td>$198.0 K</td>\n",
       "      <td>1.588614e-01</td>\n",
       "      <td>$200.4 K</td>\n",
       "      <td>0.140048</td>\n",
       "    </tr>\n",
       "    <tr>\n",
       "      <th>0</th>\n",
       "      <td>Lasso Lars</td>\n",
       "      <td>$198.0 K</td>\n",
       "      <td>1.588591e-01</td>\n",
       "      <td>$200.4 K</td>\n",
       "      <td>0.140093</td>\n",
       "    </tr>\n",
       "    <tr>\n",
       "      <th>0</th>\n",
       "      <td>GLM (Tweedie Reg)</td>\n",
       "      <td>$198.0 K</td>\n",
       "      <td>1.582753e-01</td>\n",
       "      <td>$200.5 K</td>\n",
       "      <td>0.139376</td>\n",
       "    </tr>\n",
       "  </tbody>\n",
       "</table>\n",
       "</div>"
      ],
      "text/plain": [
       "               model rmse_train           r^2 rmse_validate  r^2_validate\n",
       "0           baseline   $215.9 K -2.220446e-16      $216.1 K      0.000000\n",
       "0  Linear Regression   $198.0 K  1.588614e-01      $200.4 K      0.140048\n",
       "0         Lasso Lars   $198.0 K  1.588591e-01      $200.4 K      0.140093\n",
       "0  GLM (Tweedie Reg)   $198.0 K  1.582753e-01      $200.5 K      0.139376"
      ]
     },
     "execution_count": 4,
     "metadata": {},
     "output_type": "execute_result"
    }
   ],
   "source": [
    "metric_df"
   ]
  },
  {
   "cell_type": "code",
   "execution_count": 65,
   "id": "c4731693",
   "metadata": {},
   "outputs": [
    {
     "name": "stdout",
     "output_type": "stream",
     "text": [
      "beds\n",
      "baths\n",
      "area\n",
      "tax_value\n",
      "baseline\n",
      "Linear Regression\n",
      "Lasso Lars\n",
      "GLM (Tweedie Reg)\n"
     ]
    }
   ],
   "source": [
    "for i in master_df:\n",
    "    print(i)"
   ]
  },
  {
   "cell_type": "code",
   "execution_count": 5,
   "id": "5de8513e",
   "metadata": {},
   "outputs": [
    {
     "data": {
      "text/html": [
       "<div>\n",
       "<style scoped>\n",
       "    .dataframe tbody tr th:only-of-type {\n",
       "        vertical-align: middle;\n",
       "    }\n",
       "\n",
       "    .dataframe tbody tr th {\n",
       "        vertical-align: top;\n",
       "    }\n",
       "\n",
       "    .dataframe thead th {\n",
       "        text-align: right;\n",
       "    }\n",
       "</style>\n",
       "<table border=\"1\" class=\"dataframe\">\n",
       "  <thead>\n",
       "    <tr style=\"text-align: right;\">\n",
       "      <th></th>\n",
       "      <th>tax_value</th>\n",
       "      <th>baseline</th>\n",
       "      <th>Linear Regression</th>\n",
       "      <th>Lasso Lars</th>\n",
       "      <th>GLM (Tweedie Reg)</th>\n",
       "    </tr>\n",
       "  </thead>\n",
       "  <tbody>\n",
       "    <tr>\n",
       "      <th>17589</th>\n",
       "      <td>603335.0</td>\n",
       "      <td>424146</td>\n",
       "      <td>518928.125811</td>\n",
       "      <td>518802.467369</td>\n",
       "      <td>512185.308329</td>\n",
       "    </tr>\n",
       "    <tr>\n",
       "      <th>9031</th>\n",
       "      <td>915675.0</td>\n",
       "      <td>424146</td>\n",
       "      <td>452721.784197</td>\n",
       "      <td>452577.643678</td>\n",
       "      <td>441741.341007</td>\n",
       "    </tr>\n",
       "    <tr>\n",
       "      <th>42555</th>\n",
       "      <td>315849.0</td>\n",
       "      <td>424146</td>\n",
       "      <td>465284.370008</td>\n",
       "      <td>465110.660158</td>\n",
       "      <td>453727.540098</td>\n",
       "    </tr>\n",
       "    <tr>\n",
       "      <th>41137</th>\n",
       "      <td>450000.0</td>\n",
       "      <td>424146</td>\n",
       "      <td>455969.120178</td>\n",
       "      <td>455991.652220</td>\n",
       "      <td>447874.608121</td>\n",
       "    </tr>\n",
       "    <tr>\n",
       "      <th>51737</th>\n",
       "      <td>533298.0</td>\n",
       "      <td>424146</td>\n",
       "      <td>376761.963015</td>\n",
       "      <td>376796.613799</td>\n",
       "      <td>375720.315025</td>\n",
       "    </tr>\n",
       "    <tr>\n",
       "      <th>...</th>\n",
       "      <td>...</td>\n",
       "      <td>...</td>\n",
       "      <td>...</td>\n",
       "      <td>...</td>\n",
       "      <td>...</td>\n",
       "    </tr>\n",
       "    <tr>\n",
       "      <th>8668</th>\n",
       "      <td>418046.0</td>\n",
       "      <td>424146</td>\n",
       "      <td>369458.134055</td>\n",
       "      <td>369509.976310</td>\n",
       "      <td>369917.381849</td>\n",
       "    </tr>\n",
       "    <tr>\n",
       "      <th>14440</th>\n",
       "      <td>159777.0</td>\n",
       "      <td>424146</td>\n",
       "      <td>310165.252863</td>\n",
       "      <td>310570.109595</td>\n",
       "      <td>323201.003733</td>\n",
       "    </tr>\n",
       "    <tr>\n",
       "      <th>13615</th>\n",
       "      <td>333000.0</td>\n",
       "      <td>424146</td>\n",
       "      <td>328523.040642</td>\n",
       "      <td>328496.918329</td>\n",
       "      <td>336693.751413</td>\n",
       "    </tr>\n",
       "    <tr>\n",
       "      <th>45731</th>\n",
       "      <td>202775.0</td>\n",
       "      <td>424146</td>\n",
       "      <td>357494.064522</td>\n",
       "      <td>357787.520519</td>\n",
       "      <td>357500.873042</td>\n",
       "    </tr>\n",
       "    <tr>\n",
       "      <th>46127</th>\n",
       "      <td>185425.0</td>\n",
       "      <td>424146</td>\n",
       "      <td>326624.045112</td>\n",
       "      <td>326602.392582</td>\n",
       "      <td>335333.909616</td>\n",
       "    </tr>\n",
       "  </tbody>\n",
       "</table>\n",
       "<p>7170 rows × 5 columns</p>\n",
       "</div>"
      ],
      "text/plain": [
       "       tax_value  baseline  Linear Regression     Lasso Lars  \\\n",
       "17589   603335.0    424146      518928.125811  518802.467369   \n",
       "9031    915675.0    424146      452721.784197  452577.643678   \n",
       "42555   315849.0    424146      465284.370008  465110.660158   \n",
       "41137   450000.0    424146      455969.120178  455991.652220   \n",
       "51737   533298.0    424146      376761.963015  376796.613799   \n",
       "...          ...       ...                ...            ...   \n",
       "8668    418046.0    424146      369458.134055  369509.976310   \n",
       "14440   159777.0    424146      310165.252863  310570.109595   \n",
       "13615   333000.0    424146      328523.040642  328496.918329   \n",
       "45731   202775.0    424146      357494.064522  357787.520519   \n",
       "46127   185425.0    424146      326624.045112  326602.392582   \n",
       "\n",
       "       GLM (Tweedie Reg)  \n",
       "17589      512185.308329  \n",
       "9031       441741.341007  \n",
       "42555      453727.540098  \n",
       "41137      447874.608121  \n",
       "51737      375720.315025  \n",
       "...                  ...  \n",
       "8668       369917.381849  \n",
       "14440      323201.003733  \n",
       "13615      336693.751413  \n",
       "45731      357500.873042  \n",
       "46127      335333.909616  \n",
       "\n",
       "[7170 rows x 5 columns]"
      ]
     },
     "execution_count": 5,
     "metadata": {},
     "output_type": "execute_result"
    }
   ],
   "source": [
    "zillow[4]"
   ]
  },
  {
   "cell_type": "code",
   "execution_count": null,
   "id": "37f29900",
   "metadata": {},
   "outputs": [],
   "source": []
  },
  {
   "cell_type": "code",
   "execution_count": 21,
   "id": "bd3cd62a",
   "metadata": {},
   "outputs": [],
   "source": [
    "zillow_dict = {'df': zillow[0],\n",
    "               'X_train': zillow[1],\n",
    "               'y_train': zillow[2],\n",
    "               'X_validate': zillow[3],\n",
    "               'y_validate': zillow[4],\n",
    "               'X_test': zillow[5],\n",
    "               'y_test': zillow[6]\n",
    "              }"
   ]
  },
  {
   "cell_type": "code",
   "execution_count": 25,
   "id": "0d8c67de",
   "metadata": {},
   "outputs": [
    {
     "data": {
      "text/html": [
       "<div>\n",
       "<style scoped>\n",
       "    .dataframe tbody tr th:only-of-type {\n",
       "        vertical-align: middle;\n",
       "    }\n",
       "\n",
       "    .dataframe tbody tr th {\n",
       "        vertical-align: top;\n",
       "    }\n",
       "\n",
       "    .dataframe thead th {\n",
       "        text-align: right;\n",
       "    }\n",
       "</style>\n",
       "<table border=\"1\" class=\"dataframe\">\n",
       "  <thead>\n",
       "    <tr style=\"text-align: right;\">\n",
       "      <th></th>\n",
       "      <th>beds</th>\n",
       "      <th>baths</th>\n",
       "      <th>area</th>\n",
       "      <th>tax_value</th>\n",
       "    </tr>\n",
       "  </thead>\n",
       "  <tbody>\n",
       "    <tr>\n",
       "      <th>1</th>\n",
       "      <td>2.0</td>\n",
       "      <td>1.0</td>\n",
       "      <td>1465.0</td>\n",
       "      <td>464000.0</td>\n",
       "    </tr>\n",
       "    <tr>\n",
       "      <th>2</th>\n",
       "      <td>3.0</td>\n",
       "      <td>2.0</td>\n",
       "      <td>1243.0</td>\n",
       "      <td>564778.0</td>\n",
       "    </tr>\n",
       "    <tr>\n",
       "      <th>3</th>\n",
       "      <td>4.0</td>\n",
       "      <td>3.0</td>\n",
       "      <td>2376.0</td>\n",
       "      <td>145143.0</td>\n",
       "    </tr>\n",
       "    <tr>\n",
       "      <th>4</th>\n",
       "      <td>4.0</td>\n",
       "      <td>3.0</td>\n",
       "      <td>2962.0</td>\n",
       "      <td>773303.0</td>\n",
       "    </tr>\n",
       "    <tr>\n",
       "      <th>6</th>\n",
       "      <td>4.0</td>\n",
       "      <td>3.0</td>\n",
       "      <td>3039.0</td>\n",
       "      <td>220583.0</td>\n",
       "    </tr>\n",
       "    <tr>\n",
       "      <th>...</th>\n",
       "      <td>...</td>\n",
       "      <td>...</td>\n",
       "      <td>...</td>\n",
       "      <td>...</td>\n",
       "    </tr>\n",
       "    <tr>\n",
       "      <th>52269</th>\n",
       "      <td>3.0</td>\n",
       "      <td>2.0</td>\n",
       "      <td>1472.0</td>\n",
       "      <td>603333.0</td>\n",
       "    </tr>\n",
       "    <tr>\n",
       "      <th>52272</th>\n",
       "      <td>4.0</td>\n",
       "      <td>3.0</td>\n",
       "      <td>2068.0</td>\n",
       "      <td>332251.0</td>\n",
       "    </tr>\n",
       "    <tr>\n",
       "      <th>52274</th>\n",
       "      <td>4.0</td>\n",
       "      <td>2.0</td>\n",
       "      <td>1633.0</td>\n",
       "      <td>346534.0</td>\n",
       "    </tr>\n",
       "    <tr>\n",
       "      <th>52275</th>\n",
       "      <td>2.0</td>\n",
       "      <td>2.0</td>\n",
       "      <td>1286.0</td>\n",
       "      <td>354621.0</td>\n",
       "    </tr>\n",
       "    <tr>\n",
       "      <th>52278</th>\n",
       "      <td>3.0</td>\n",
       "      <td>2.0</td>\n",
       "      <td>1762.0</td>\n",
       "      <td>522000.0</td>\n",
       "    </tr>\n",
       "  </tbody>\n",
       "</table>\n",
       "<p>35848 rows × 4 columns</p>\n",
       "</div>"
      ],
      "text/plain": [
       "       beds  baths    area  tax_value\n",
       "1       2.0    1.0  1465.0   464000.0\n",
       "2       3.0    2.0  1243.0   564778.0\n",
       "3       4.0    3.0  2376.0   145143.0\n",
       "4       4.0    3.0  2962.0   773303.0\n",
       "6       4.0    3.0  3039.0   220583.0\n",
       "...     ...    ...     ...        ...\n",
       "52269   3.0    2.0  1472.0   603333.0\n",
       "52272   4.0    3.0  2068.0   332251.0\n",
       "52274   4.0    2.0  1633.0   346534.0\n",
       "52275   2.0    2.0  1286.0   354621.0\n",
       "52278   3.0    2.0  1762.0   522000.0\n",
       "\n",
       "[35848 rows x 4 columns]"
      ]
     },
     "execution_count": 25,
     "metadata": {},
     "output_type": "execute_result"
    }
   ],
   "source": [
    "zillow_dict['df']"
   ]
  },
  {
   "cell_type": "code",
   "execution_count": 28,
   "id": "5af2ca87",
   "metadata": {},
   "outputs": [],
   "source": [
    "master_df = pd.concat(zillow_dict)"
   ]
  },
  {
   "cell_type": "code",
   "execution_count": 56,
   "id": "0c5e6c1c",
   "metadata": {},
   "outputs": [
    {
     "data": {
      "text/plain": [
       "1        2.0\n",
       "2        3.0\n",
       "3        4.0\n",
       "4        4.0\n",
       "6        4.0\n",
       "        ... \n",
       "52269    3.0\n",
       "52272    4.0\n",
       "52274    4.0\n",
       "52275    2.0\n",
       "52278    3.0\n",
       "Name: beds, Length: 35848, dtype: float64"
      ]
     },
     "execution_count": 56,
     "metadata": {},
     "output_type": "execute_result"
    }
   ],
   "source": [
    "master_df.loc['df','beds']"
   ]
  },
  {
   "cell_type": "code",
   "execution_count": 67,
   "id": "32e27176",
   "metadata": {},
   "outputs": [
    {
     "data": {
      "text/html": [
       "<div>\n",
       "<style scoped>\n",
       "    .dataframe tbody tr th:only-of-type {\n",
       "        vertical-align: middle;\n",
       "    }\n",
       "\n",
       "    .dataframe tbody tr th {\n",
       "        vertical-align: top;\n",
       "    }\n",
       "\n",
       "    .dataframe thead th {\n",
       "        text-align: right;\n",
       "    }\n",
       "</style>\n",
       "<table border=\"1\" class=\"dataframe\">\n",
       "  <thead>\n",
       "    <tr style=\"text-align: right;\">\n",
       "      <th></th>\n",
       "      <th>beds</th>\n",
       "      <th>baths</th>\n",
       "      <th>area</th>\n",
       "    </tr>\n",
       "  </thead>\n",
       "  <tbody>\n",
       "    <tr>\n",
       "      <th>17589</th>\n",
       "      <td>0.666667</td>\n",
       "      <td>0.571429</td>\n",
       "      <td>0.548060</td>\n",
       "    </tr>\n",
       "    <tr>\n",
       "      <th>9031</th>\n",
       "      <td>0.333333</td>\n",
       "      <td>0.285714</td>\n",
       "      <td>0.347780</td>\n",
       "    </tr>\n",
       "    <tr>\n",
       "      <th>42555</th>\n",
       "      <td>0.333333</td>\n",
       "      <td>0.285714</td>\n",
       "      <td>0.377840</td>\n",
       "    </tr>\n",
       "    <tr>\n",
       "      <th>41137</th>\n",
       "      <td>0.666667</td>\n",
       "      <td>0.571429</td>\n",
       "      <td>0.397413</td>\n",
       "    </tr>\n",
       "    <tr>\n",
       "      <th>51737</th>\n",
       "      <td>0.333333</td>\n",
       "      <td>0.285714</td>\n",
       "      <td>0.166026</td>\n",
       "    </tr>\n",
       "    <tr>\n",
       "      <th>...</th>\n",
       "      <td>...</td>\n",
       "      <td>...</td>\n",
       "      <td>...</td>\n",
       "    </tr>\n",
       "    <tr>\n",
       "      <th>8668</th>\n",
       "      <td>0.333333</td>\n",
       "      <td>0.285714</td>\n",
       "      <td>0.148549</td>\n",
       "    </tr>\n",
       "    <tr>\n",
       "      <th>14440</th>\n",
       "      <td>0.333333</td>\n",
       "      <td>0.000000</td>\n",
       "      <td>0.037749</td>\n",
       "    </tr>\n",
       "    <tr>\n",
       "      <th>13615</th>\n",
       "      <td>0.000000</td>\n",
       "      <td>0.000000</td>\n",
       "      <td>0.008738</td>\n",
       "    </tr>\n",
       "    <tr>\n",
       "      <th>45731</th>\n",
       "      <td>0.333333</td>\n",
       "      <td>0.000000</td>\n",
       "      <td>0.150996</td>\n",
       "    </tr>\n",
       "    <tr>\n",
       "      <th>46127</th>\n",
       "      <td>0.000000</td>\n",
       "      <td>0.000000</td>\n",
       "      <td>0.004194</td>\n",
       "    </tr>\n",
       "  </tbody>\n",
       "</table>\n",
       "<p>7170 rows × 3 columns</p>\n",
       "</div>"
      ],
      "text/plain": [
       "           beds     baths      area\n",
       "17589  0.666667  0.571429  0.548060\n",
       "9031   0.333333  0.285714  0.347780\n",
       "42555  0.333333  0.285714  0.377840\n",
       "41137  0.666667  0.571429  0.397413\n",
       "51737  0.333333  0.285714  0.166026\n",
       "...         ...       ...       ...\n",
       "8668   0.333333  0.285714  0.148549\n",
       "14440  0.333333  0.000000  0.037749\n",
       "13615  0.000000  0.000000  0.008738\n",
       "45731  0.333333  0.000000  0.150996\n",
       "46127  0.000000  0.000000  0.004194\n",
       "\n",
       "[7170 rows x 3 columns]"
      ]
     },
     "execution_count": 67,
     "metadata": {},
     "output_type": "execute_result"
    }
   ],
   "source": [
    "master_df.loc['X_validate'][X_cols]"
   ]
  },
  {
   "cell_type": "code",
   "execution_count": 58,
   "id": "b29a413a",
   "metadata": {},
   "outputs": [
    {
     "data": {
      "text/plain": [
       "17589    518928.125811\n",
       "9031     452721.784197\n",
       "42555    465284.370008\n",
       "41137    455969.120178\n",
       "51737    376761.963015\n",
       "             ...      \n",
       "8668     369458.134055\n",
       "14440    310165.252863\n",
       "13615    328523.040642\n",
       "45731    357494.064522\n",
       "46127    326624.045112\n",
       "Name: Linear Regression, Length: 7170, dtype: float64"
      ]
     },
     "execution_count": 58,
     "metadata": {},
     "output_type": "execute_result"
    }
   ],
   "source": [
    "master_df.loc['y_validate', 'Linear Regression']"
   ]
  },
  {
   "cell_type": "code",
   "execution_count": 37,
   "id": "5b85f995",
   "metadata": {},
   "outputs": [
    {
     "name": "stdout",
     "output_type": "stream",
     "text": [
      "<class 'pandas.core.frame.DataFrame'>\n",
      "MultiIndex: 107544 entries, ('df', 1) to ('y_test', 18407)\n",
      "Data columns (total 8 columns):\n",
      " #   Column             Non-Null Count  Dtype  \n",
      "---  ------             --------------  -----  \n",
      " 0   beds               71696 non-null  float64\n",
      " 1   baths              71696 non-null  float64\n",
      " 2   area               71696 non-null  float64\n",
      " 3   tax_value          71696 non-null  float64\n",
      " 4   baseline           35848 non-null  float64\n",
      " 5   Linear Regression  28678 non-null  float64\n",
      " 6   Lasso Lars         28678 non-null  float64\n",
      " 7   GLM (Tweedie Reg)  28678 non-null  float64\n",
      "dtypes: float64(8)\n",
      "memory usage: 8.4+ MB\n"
     ]
    }
   ],
   "source": [
    "master_df.info()"
   ]
  },
  {
   "cell_type": "code",
   "execution_count": 27,
   "id": "3c952b83",
   "metadata": {},
   "outputs": [],
   "source": [
    "# x = split_data_continuous(df, with_baseline=True)"
   ]
  },
  {
   "cell_type": "code",
   "execution_count": 26,
   "id": "3c5a041c",
   "metadata": {},
   "outputs": [],
   "source": [
    "# model_sets(x[0],x[1],x[2])\n",
    "    "
   ]
  },
  {
   "cell_type": "code",
   "execution_count": 28,
   "id": "0f8a95ee",
   "metadata": {},
   "outputs": [],
   "source": [
    "# for i in x:\n",
    "#     print(i)"
   ]
  }
 ],
 "metadata": {
  "kernelspec": {
   "display_name": "Python 3 (ipykernel)",
   "language": "python",
   "name": "python3"
  },
  "language_info": {
   "codemirror_mode": {
    "name": "ipython",
    "version": 3
   },
   "file_extension": ".py",
   "mimetype": "text/x-python",
   "name": "python",
   "nbconvert_exporter": "python",
   "pygments_lexer": "ipython3",
   "version": "3.9.12"
  }
 },
 "nbformat": 4,
 "nbformat_minor": 5
}
