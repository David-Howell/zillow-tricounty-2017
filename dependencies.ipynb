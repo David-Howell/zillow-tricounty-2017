{
 "cells": [
  {
   "cell_type": "code",
   "execution_count": null,
   "id": "a5f8c0e3",
   "metadata": {},
   "outputs": [],
   "source": [
    "'''\n",
    "<  GET_ZILLOW_MVP  >\n",
    "       \n",
    "<  CLEAN_ZILLOW  >\n",
    "\n",
    "<  SPLIT_DATA_CONTINUOUS  >\n",
    "\n",
    "<  BOXPLOTS  >\n",
    "\n",
    "<  REMOVE_OUTLIERS  >\n",
    "\n",
    "<  HR (HUMAN READABLE)  >\n",
    "\n",
    "<  HISTS  >\n",
    "\n",
    "<  SLICER  >\n",
    "\n",
    "<  SCALE_DATA  >\n",
    "\n",
    "<  BASELINES  >\n",
    "\n",
    "<  MODEL_SETS  >\n",
    "\n",
    "<  MAKE_METRICS  >\n",
    "\n",
    "<  MAKE_MODELS  >\n",
    "\n",
    "<  GET_MODELS  >\n",
    "\n",
    "'''"
   ]
  },
  {
   "cell_type": "code",
   "execution_count": null,
   "id": "6a1dd668",
   "metadata": {},
   "outputs": [],
   "source": [
    "{'Functions': [],\n",
    " 'Dependencies': [],\n",
    " 'Parameters': [],\n",
    " 'Returns': []\n",
    "}"
   ]
  }
 ],
 "metadata": {
  "kernelspec": {
   "display_name": "Python 3 (ipykernel)",
   "language": "python",
   "name": "python3"
  },
  "language_info": {
   "codemirror_mode": {
    "name": "ipython",
    "version": 3
   },
   "file_extension": ".py",
   "mimetype": "text/x-python",
   "name": "python",
   "nbconvert_exporter": "python",
   "pygments_lexer": "ipython3",
   "version": "3.9.12"
  }
 },
 "nbformat": 4,
 "nbformat_minor": 5
}
