{
 "cells": [
  {
   "cell_type": "code",
   "execution_count": 1,
   "id": "b388458e",
   "metadata": {},
   "outputs": [],
   "source": [
    "import pandas as pd\n",
    "import numpy as np\n",
    "import matplotlib.pyplot as plt\n",
    "from wrangle_mvp import clean_zillow\n",
    "from wrangle_mvp import boxplots, hists, split_data_continuous\n",
    "import seaborn as sns\n",
    "\n",
    "from sklearn.metrics import mean_squared_error"
   ]
  },
  {
   "cell_type": "code",
   "execution_count": 3,
   "id": "3b721f59",
   "metadata": {},
   "outputs": [
    {
     "name": "stdout",
     "output_type": "stream",
     "text": [
      "Number of observations removed: 5516\n"
     ]
    },
    {
     "data": {
      "text/html": [
       "<div>\n",
       "<style scoped>\n",
       "    .dataframe tbody tr th:only-of-type {\n",
       "        vertical-align: middle;\n",
       "    }\n",
       "\n",
       "    .dataframe tbody tr th {\n",
       "        vertical-align: top;\n",
       "    }\n",
       "\n",
       "    .dataframe thead th {\n",
       "        text-align: right;\n",
       "    }\n",
       "</style>\n",
       "<table border=\"1\" class=\"dataframe\">\n",
       "  <thead>\n",
       "    <tr style=\"text-align: right;\">\n",
       "      <th></th>\n",
       "      <th>beds</th>\n",
       "      <th>baths</th>\n",
       "      <th>area</th>\n",
       "      <th>tax_value</th>\n",
       "    </tr>\n",
       "  </thead>\n",
       "  <tbody>\n",
       "    <tr>\n",
       "      <th>1</th>\n",
       "      <td>2.0</td>\n",
       "      <td>1.0</td>\n",
       "      <td>1465.0</td>\n",
       "      <td>464000.0</td>\n",
       "    </tr>\n",
       "    <tr>\n",
       "      <th>2</th>\n",
       "      <td>3.0</td>\n",
       "      <td>2.0</td>\n",
       "      <td>1243.0</td>\n",
       "      <td>564778.0</td>\n",
       "    </tr>\n",
       "    <tr>\n",
       "      <th>3</th>\n",
       "      <td>4.0</td>\n",
       "      <td>3.0</td>\n",
       "      <td>2376.0</td>\n",
       "      <td>145143.0</td>\n",
       "    </tr>\n",
       "    <tr>\n",
       "      <th>4</th>\n",
       "      <td>4.0</td>\n",
       "      <td>3.0</td>\n",
       "      <td>2962.0</td>\n",
       "      <td>773303.0</td>\n",
       "    </tr>\n",
       "    <tr>\n",
       "      <th>6</th>\n",
       "      <td>4.0</td>\n",
       "      <td>3.0</td>\n",
       "      <td>3039.0</td>\n",
       "      <td>220583.0</td>\n",
       "    </tr>\n",
       "    <tr>\n",
       "      <th>...</th>\n",
       "      <td>...</td>\n",
       "      <td>...</td>\n",
       "      <td>...</td>\n",
       "      <td>...</td>\n",
       "    </tr>\n",
       "    <tr>\n",
       "      <th>52269</th>\n",
       "      <td>3.0</td>\n",
       "      <td>2.0</td>\n",
       "      <td>1472.0</td>\n",
       "      <td>603333.0</td>\n",
       "    </tr>\n",
       "    <tr>\n",
       "      <th>52272</th>\n",
       "      <td>4.0</td>\n",
       "      <td>3.0</td>\n",
       "      <td>2068.0</td>\n",
       "      <td>332251.0</td>\n",
       "    </tr>\n",
       "    <tr>\n",
       "      <th>52274</th>\n",
       "      <td>4.0</td>\n",
       "      <td>2.0</td>\n",
       "      <td>1633.0</td>\n",
       "      <td>346534.0</td>\n",
       "    </tr>\n",
       "    <tr>\n",
       "      <th>52275</th>\n",
       "      <td>2.0</td>\n",
       "      <td>2.0</td>\n",
       "      <td>1286.0</td>\n",
       "      <td>354621.0</td>\n",
       "    </tr>\n",
       "    <tr>\n",
       "      <th>52278</th>\n",
       "      <td>3.0</td>\n",
       "      <td>2.0</td>\n",
       "      <td>1762.0</td>\n",
       "      <td>522000.0</td>\n",
       "    </tr>\n",
       "  </tbody>\n",
       "</table>\n",
       "<p>35848 rows × 4 columns</p>\n",
       "</div>"
      ],
      "text/plain": [
       "       beds  baths    area  tax_value\n",
       "1       2.0    1.0  1465.0   464000.0\n",
       "2       3.0    2.0  1243.0   564778.0\n",
       "3       4.0    3.0  2376.0   145143.0\n",
       "4       4.0    3.0  2962.0   773303.0\n",
       "6       4.0    3.0  3039.0   220583.0\n",
       "...     ...    ...     ...        ...\n",
       "52269   3.0    2.0  1472.0   603333.0\n",
       "52272   4.0    3.0  2068.0   332251.0\n",
       "52274   4.0    2.0  1633.0   346534.0\n",
       "52275   2.0    2.0  1286.0   354621.0\n",
       "52278   3.0    2.0  1762.0   522000.0\n",
       "\n",
       "[35848 rows x 4 columns]"
      ]
     },
     "execution_count": 3,
     "metadata": {},
     "output_type": "execute_result"
    }
   ],
   "source": [
    "df = clean_zillow()\n",
    "df"
   ]
  },
  {
   "cell_type": "code",
   "execution_count": 4,
   "id": "7f6e575e",
   "metadata": {
    "scrolled": false
   },
   "outputs": [
    {
     "data": {
      "image/png": "[encoded data removed]",
      "text/plain": [
       "<Figure size 1152x288 with 4 Axes>"
      ]
     },
     "metadata": {
      "needs_background": "light"
     },
     "output_type": "display_data"
    }
   ],
   "source": [
    "hists(df, granularity=15)"
   ]
  },
  {
   "cell_type": "code",
   "execution_count": 5,
   "id": "eb04c2e1",
   "metadata": {},
   "outputs": [
    {
     "name": "stdout",
     "output_type": "stream",
     "text": [
      "Prepared df: (35848, 4)\n",
      "\n",
      "Train: (21508, 4)\n",
      "Validate: (7170, 4)\n",
      "Test: (7170, 4)\n"
     ]
    }
   ],
   "source": [
    "train, validate, test = split_data_continuous(df)"
   ]
  },
  {
   "cell_type": "code",
   "execution_count": 6,
   "id": "4fe499af",
   "metadata": {},
   "outputs": [
    {
     "name": "stdout",
     "output_type": "stream",
     "text": [
      "<class 'pandas.core.frame.DataFrame'>\n",
      "Int64Index: 21508 entries, 30326 to 49470\n",
      "Data columns (total 4 columns):\n",
      " #   Column     Non-Null Count  Dtype  \n",
      "---  ------     --------------  -----  \n",
      " 0   beds       21508 non-null  float64\n",
      " 1   baths      21508 non-null  float64\n",
      " 2   area       21508 non-null  float64\n",
      " 3   tax_value  21508 non-null  float64\n",
      "dtypes: float64(4)\n",
      "memory usage: 840.2 KB\n"
     ]
    }
   ],
   "source": [
    "train.info()"
   ]
  },
  {
   "cell_type": "code",
   "execution_count": 7,
   "id": "77b023b8",
   "metadata": {
    "scrolled": true
   },
   "outputs": [
    {
     "name": "stdout",
     "output_type": "stream",
     "text": [
      "Prepared df: (35848, 4)\n",
      "\n",
      "Train: (21508, 4)\n",
      "Validate: (7170, 4)\n",
      "Test: (7170, 4)\n",
      "The mean_preds had the lowest RMSE: 215859 with an in/out of: 0.999\n"
     ]
    }
   ],
   "source": [
    "train, validate, test = split_data_continuous(df, with_baseline=True)"
   ]
  },
  {
   "cell_type": "code",
   "execution_count": 8,
   "id": "ff7c21df",
   "metadata": {},
   "outputs": [
    {
     "name": "stdout",
     "output_type": "stream",
     "text": [
      "<class 'pandas.core.frame.DataFrame'>\n",
      "Int64Index: 21508 entries, 30326 to 49470\n",
      "Data columns (total 5 columns):\n",
      " #   Column     Non-Null Count  Dtype  \n",
      "---  ------     --------------  -----  \n",
      " 0   beds       21508 non-null  float64\n",
      " 1   baths      21508 non-null  float64\n",
      " 2   area       21508 non-null  float64\n",
      " 3   tax_value  21508 non-null  float64\n",
      " 4   baseline   21508 non-null  int64  \n",
      "dtypes: float64(4), int64(1)\n",
      "memory usage: 1.5 MB\n"
     ]
    }
   ],
   "source": [
    "train.info()"
   ]
  },
  {
   "cell_type": "code",
   "execution_count": 8,
   "id": "0bb37a43",
   "metadata": {},
   "outputs": [],
   "source": [
    "# baselines = ['mean_preds',\n",
    "#     'median_preds',\n",
    "#     'mode_preds',\n",
    "#     'm_mmm_preds',\n",
    "#     'hm_mmm_preds',\n",
    "#     'h_m_total_preds']"
   ]
  },
  {
   "cell_type": "code",
   "execution_count": 11,
   "id": "b7b55217",
   "metadata": {
    "collapsed": true
   },
   "outputs": [
    {
     "name": "stdout",
     "output_type": "stream",
     "text": [
      "\n",
      "RMSE using mean_preds\n",
      "Train/In-Sample:  215859.36 \n",
      "\n",
      "Validate/Out-of-Sample:  216106.96\n",
      "\n",
      "RMSE using median_preds\n",
      "Train/In-Sample:  218023.86 \n",
      "\n",
      "Validate/Out-of-Sample:  218203.62\n",
      "\n",
      "RMSE using mode_preds\n",
      "Train/In-Sample:  228799.1 \n",
      "\n",
      "Validate/Out-of-Sample:  229186.88\n",
      "\n",
      "RMSE using m_mmm_preds\n",
      "Train/In-Sample:  216384.72 \n",
      "\n",
      "Validate/Out-of-Sample:  216664.12\n",
      "\n",
      "RMSE using hm_mmm_preds\n",
      "Train/In-Sample:  216124.46 \n",
      "\n",
      "Validate/Out-of-Sample:  216394.79\n",
      "\n",
      "RMSE using h_m_total_preds\n",
      "Train/In-Sample:  243260.16 \n",
      "\n",
      "Validate/Out-of-Sample:  243265.29\n"
     ]
    },
    {
     "data": {
      "text/html": [
       "<div>\n",
       "<style scoped>\n",
       "    .dataframe tbody tr th:only-of-type {\n",
       "        vertical-align: middle;\n",
       "    }\n",
       "\n",
       "    .dataframe tbody tr th {\n",
       "        vertical-align: top;\n",
       "    }\n",
       "\n",
       "    .dataframe thead th {\n",
       "        text-align: right;\n",
       "    }\n",
       "</style>\n",
       "<table border=\"1\" class=\"dataframe\">\n",
       "  <thead>\n",
       "    <tr style=\"text-align: right;\">\n",
       "      <th></th>\n",
       "      <th>beds</th>\n",
       "      <th>baths</th>\n",
       "      <th>area</th>\n",
       "      <th>tax_value</th>\n",
       "      <th>mean_preds</th>\n",
       "      <th>median_preds</th>\n",
       "      <th>mode_preds</th>\n",
       "      <th>m_mmm_preds</th>\n",
       "      <th>hm_mmm_preds</th>\n",
       "      <th>h_m_total_preds</th>\n",
       "    </tr>\n",
       "  </thead>\n",
       "  <tbody>\n",
       "    <tr>\n",
       "      <th>30326</th>\n",
       "      <td>4.0</td>\n",
       "      <td>2.0</td>\n",
       "      <td>1580.0</td>\n",
       "      <td>629000.0</td>\n",
       "      <td>424146.433002</td>\n",
       "      <td>393501.0</td>\n",
       "      <td>500000.0</td>\n",
       "      <td>439215.811001</td>\n",
       "      <td>434847.777898</td>\n",
       "      <td>311984.755996</td>\n",
       "    </tr>\n",
       "    <tr>\n",
       "      <th>45106</th>\n",
       "      <td>3.0</td>\n",
       "      <td>1.0</td>\n",
       "      <td>1173.0</td>\n",
       "      <td>211875.0</td>\n",
       "      <td>424146.433002</td>\n",
       "      <td>393501.0</td>\n",
       "      <td>500000.0</td>\n",
       "      <td>439215.811001</td>\n",
       "      <td>434847.777898</td>\n",
       "      <td>311984.755996</td>\n",
       "    </tr>\n",
       "    <tr>\n",
       "      <th>43267</th>\n",
       "      <td>4.0</td>\n",
       "      <td>2.0</td>\n",
       "      <td>1725.0</td>\n",
       "      <td>271496.0</td>\n",
       "      <td>424146.433002</td>\n",
       "      <td>393501.0</td>\n",
       "      <td>500000.0</td>\n",
       "      <td>439215.811001</td>\n",
       "      <td>434847.777898</td>\n",
       "      <td>311984.755996</td>\n",
       "    </tr>\n",
       "    <tr>\n",
       "      <th>35226</th>\n",
       "      <td>2.0</td>\n",
       "      <td>2.5</td>\n",
       "      <td>1425.0</td>\n",
       "      <td>540465.0</td>\n",
       "      <td>424146.433002</td>\n",
       "      <td>393501.0</td>\n",
       "      <td>500000.0</td>\n",
       "      <td>439215.811001</td>\n",
       "      <td>434847.777898</td>\n",
       "      <td>311984.755996</td>\n",
       "    </tr>\n",
       "    <tr>\n",
       "      <th>34165</th>\n",
       "      <td>3.0</td>\n",
       "      <td>2.0</td>\n",
       "      <td>2264.0</td>\n",
       "      <td>454409.0</td>\n",
       "      <td>424146.433002</td>\n",
       "      <td>393501.0</td>\n",
       "      <td>500000.0</td>\n",
       "      <td>439215.811001</td>\n",
       "      <td>434847.777898</td>\n",
       "      <td>311984.755996</td>\n",
       "    </tr>\n",
       "    <tr>\n",
       "      <th>...</th>\n",
       "      <td>...</td>\n",
       "      <td>...</td>\n",
       "      <td>...</td>\n",
       "      <td>...</td>\n",
       "      <td>...</td>\n",
       "      <td>...</td>\n",
       "      <td>...</td>\n",
       "      <td>...</td>\n",
       "      <td>...</td>\n",
       "      <td>...</td>\n",
       "    </tr>\n",
       "    <tr>\n",
       "      <th>2136</th>\n",
       "      <td>3.0</td>\n",
       "      <td>2.0</td>\n",
       "      <td>1420.0</td>\n",
       "      <td>164070.0</td>\n",
       "      <td>424146.433002</td>\n",
       "      <td>393501.0</td>\n",
       "      <td>500000.0</td>\n",
       "      <td>439215.811001</td>\n",
       "      <td>434847.777898</td>\n",
       "      <td>311984.755996</td>\n",
       "    </tr>\n",
       "    <tr>\n",
       "      <th>7245</th>\n",
       "      <td>4.0</td>\n",
       "      <td>2.0</td>\n",
       "      <td>1342.0</td>\n",
       "      <td>201841.0</td>\n",
       "      <td>424146.433002</td>\n",
       "      <td>393501.0</td>\n",
       "      <td>500000.0</td>\n",
       "      <td>439215.811001</td>\n",
       "      <td>434847.777898</td>\n",
       "      <td>311984.755996</td>\n",
       "    </tr>\n",
       "    <tr>\n",
       "      <th>47146</th>\n",
       "      <td>4.0</td>\n",
       "      <td>2.0</td>\n",
       "      <td>3033.0</td>\n",
       "      <td>927000.0</td>\n",
       "      <td>424146.433002</td>\n",
       "      <td>393501.0</td>\n",
       "      <td>500000.0</td>\n",
       "      <td>439215.811001</td>\n",
       "      <td>434847.777898</td>\n",
       "      <td>311984.755996</td>\n",
       "    </tr>\n",
       "    <tr>\n",
       "      <th>24698</th>\n",
       "      <td>3.0</td>\n",
       "      <td>3.0</td>\n",
       "      <td>2280.0</td>\n",
       "      <td>143786.0</td>\n",
       "      <td>424146.433002</td>\n",
       "      <td>393501.0</td>\n",
       "      <td>500000.0</td>\n",
       "      <td>439215.811001</td>\n",
       "      <td>434847.777898</td>\n",
       "      <td>311984.755996</td>\n",
       "    </tr>\n",
       "    <tr>\n",
       "      <th>49470</th>\n",
       "      <td>3.0</td>\n",
       "      <td>2.0</td>\n",
       "      <td>1430.0</td>\n",
       "      <td>437230.0</td>\n",
       "      <td>424146.433002</td>\n",
       "      <td>393501.0</td>\n",
       "      <td>500000.0</td>\n",
       "      <td>439215.811001</td>\n",
       "      <td>434847.777898</td>\n",
       "      <td>311984.755996</td>\n",
       "    </tr>\n",
       "  </tbody>\n",
       "</table>\n",
       "<p>21508 rows × 10 columns</p>\n",
       "</div>"
      ],
      "text/plain": [
       "       beds  baths    area  tax_value     mean_preds  median_preds  \\\n",
       "30326   4.0    2.0  1580.0   629000.0  424146.433002      393501.0   \n",
       "45106   3.0    1.0  1173.0   211875.0  424146.433002      393501.0   \n",
       "43267   4.0    2.0  1725.0   271496.0  424146.433002      393501.0   \n",
       "35226   2.0    2.5  1425.0   540465.0  424146.433002      393501.0   \n",
       "34165   3.0    2.0  2264.0   454409.0  424146.433002      393501.0   \n",
       "...     ...    ...     ...        ...            ...           ...   \n",
       "2136    3.0    2.0  1420.0   164070.0  424146.433002      393501.0   \n",
       "7245    4.0    2.0  1342.0   201841.0  424146.433002      393501.0   \n",
       "47146   4.0    2.0  3033.0   927000.0  424146.433002      393501.0   \n",
       "24698   3.0    3.0  2280.0   143786.0  424146.433002      393501.0   \n",
       "49470   3.0    2.0  1430.0   437230.0  424146.433002      393501.0   \n",
       "\n",
       "       mode_preds    m_mmm_preds   hm_mmm_preds  h_m_total_preds  \n",
       "30326    500000.0  439215.811001  434847.777898    311984.755996  \n",
       "45106    500000.0  439215.811001  434847.777898    311984.755996  \n",
       "43267    500000.0  439215.811001  434847.777898    311984.755996  \n",
       "35226    500000.0  439215.811001  434847.777898    311984.755996  \n",
       "34165    500000.0  439215.811001  434847.777898    311984.755996  \n",
       "...           ...            ...            ...              ...  \n",
       "2136     500000.0  439215.811001  434847.777898    311984.755996  \n",
       "7245     500000.0  439215.811001  434847.777898    311984.755996  \n",
       "47146    500000.0  439215.811001  434847.777898    311984.755996  \n",
       "24698    500000.0  439215.811001  434847.777898    311984.755996  \n",
       "49470    500000.0  439215.811001  434847.777898    311984.755996  \n",
       "\n",
       "[21508 rows x 10 columns]"
      ]
     },
     "execution_count": 11,
     "metadata": {},
     "output_type": "execute_result"
    }
   ],
   "source": [
    "# for i in baselines:\n",
    "#     rmse_train = mean_squared_error(train.tax_value, train[i]) ** 0.5\n",
    "#     rmse_validate = mean_squared_error(validate.tax_value, validate[i]) ** 0.5\n",
    "\n",
    "#     print(f\"\\nRMSE using {i}\\nTrain/In-Sample: \", round(rmse_train, 2), \n",
    "#           \"\\n\\nValidate/Out-of-Sample: \", round(rmse_validate, 2)), \"\\n\"\n",
    "# train"
   ]
  },
  {
   "cell_type": "code",
   "execution_count": 31,
   "id": "a755423d",
   "metadata": {},
   "outputs": [
    {
     "name": "stdout",
     "output_type": "stream",
     "text": [
      "The mean_preds had the lowest RSME: 215859 with an in/out of: 0.999\n"
     ]
    }
   ],
   "source": [
    "best_rmse = 1_000_000_000\n",
    "best_baseline = None\n",
    "\n",
    "for i in baselines:\n",
    "    rmse_train = mean_squared_error(train.tax_value, train[i]) ** 0.5\n",
    "    rmse_validate = mean_squared_error(validate.tax_value, validate[i]) ** 0.5\n",
    "\n",
    "    if rmse_train < best_rmse:\n",
    "        best_rmse = rmse_train\n",
    "        best_baseline = i\n",
    "        in_out = rmse_train/rmse_validate\n",
    "\n",
    "        \n",
    "train['baseline'] = round(train[best_baseline])\n",
    "\n",
    "train = train.drop(columns= baselines)\n",
    "    \n",
    "print(f'The {best_baseline} had the lowest RMSE: {round(best_rmse)} with an in/out of: {round(in_out,3)}')"
   ]
  },
  {
   "cell_type": "code",
   "execution_count": 9,
   "id": "ed2c39f4",
   "metadata": {},
   "outputs": [
    {
     "data": {
      "text/html": [
       "<div>\n",
       "<style scoped>\n",
       "    .dataframe tbody tr th:only-of-type {\n",
       "        vertical-align: middle;\n",
       "    }\n",
       "\n",
       "    .dataframe tbody tr th {\n",
       "        vertical-align: top;\n",
       "    }\n",
       "\n",
       "    .dataframe thead th {\n",
       "        text-align: right;\n",
       "    }\n",
       "</style>\n",
       "<table border=\"1\" class=\"dataframe\">\n",
       "  <thead>\n",
       "    <tr style=\"text-align: right;\">\n",
       "      <th></th>\n",
       "      <th>beds</th>\n",
       "      <th>baths</th>\n",
       "      <th>area</th>\n",
       "      <th>tax_value</th>\n",
       "      <th>baseline</th>\n",
       "    </tr>\n",
       "  </thead>\n",
       "  <tbody>\n",
       "    <tr>\n",
       "      <th>30326</th>\n",
       "      <td>4.0</td>\n",
       "      <td>2.0</td>\n",
       "      <td>1580.0</td>\n",
       "      <td>629000.0</td>\n",
       "      <td>424146</td>\n",
       "    </tr>\n",
       "    <tr>\n",
       "      <th>45106</th>\n",
       "      <td>3.0</td>\n",
       "      <td>1.0</td>\n",
       "      <td>1173.0</td>\n",
       "      <td>211875.0</td>\n",
       "      <td>424146</td>\n",
       "    </tr>\n",
       "    <tr>\n",
       "      <th>43267</th>\n",
       "      <td>4.0</td>\n",
       "      <td>2.0</td>\n",
       "      <td>1725.0</td>\n",
       "      <td>271496.0</td>\n",
       "      <td>424146</td>\n",
       "    </tr>\n",
       "    <tr>\n",
       "      <th>35226</th>\n",
       "      <td>2.0</td>\n",
       "      <td>2.5</td>\n",
       "      <td>1425.0</td>\n",
       "      <td>540465.0</td>\n",
       "      <td>424146</td>\n",
       "    </tr>\n",
       "    <tr>\n",
       "      <th>34165</th>\n",
       "      <td>3.0</td>\n",
       "      <td>2.0</td>\n",
       "      <td>2264.0</td>\n",
       "      <td>454409.0</td>\n",
       "      <td>424146</td>\n",
       "    </tr>\n",
       "  </tbody>\n",
       "</table>\n",
       "</div>"
      ],
      "text/plain": [
       "       beds  baths    area  tax_value  baseline\n",
       "30326   4.0    2.0  1580.0   629000.0    424146\n",
       "45106   3.0    1.0  1173.0   211875.0    424146\n",
       "43267   4.0    2.0  1725.0   271496.0    424146\n",
       "35226   2.0    2.5  1425.0   540465.0    424146\n",
       "34165   3.0    2.0  2264.0   454409.0    424146"
      ]
     },
     "execution_count": 9,
     "metadata": {},
     "output_type": "execute_result"
    }
   ],
   "source": [
    "train.head()"
   ]
  },
  {
   "cell_type": "raw",
   "id": "a2fb0e58",
   "metadata": {},
   "source": []
  },
  {
   "cell_type": "code",
   "execution_count": null,
   "id": "98bef8ef",
   "metadata": {},
   "outputs": [],
   "source": []
  },
  {
   "cell_type": "code",
   "execution_count": 11,
   "id": "431c47e8",
   "metadata": {},
   "outputs": [],
   "source": [
    "eda = train"
   ]
  },
  {
   "cell_type": "code",
   "execution_count": 24,
   "id": "bdf9af28",
   "metadata": {},
   "outputs": [
    {
     "data": {
      "text/plain": [
       "424146"
      ]
     },
     "execution_count": 24,
     "metadata": {},
     "output_type": "execute_result"
    }
   ],
   "source": [
    "round(train.tax_value.mean())"
   ]
  },
  {
   "cell_type": "code",
   "execution_count": 25,
   "id": "1ca21d90",
   "metadata": {},
   "outputs": [
    {
     "data": {
      "text/plain": [
       "393501"
      ]
     },
     "execution_count": 25,
     "metadata": {},
     "output_type": "execute_result"
    }
   ],
   "source": [
    "round(train.tax_value.median())"
   ]
  },
  {
   "cell_type": "code",
   "execution_count": 28,
   "id": "5aed7f6d",
   "metadata": {},
   "outputs": [
    {
     "data": {
      "text/plain": [
       "305000.0    65\n",
       "382000.0    64\n",
       "281000.0    58\n",
       "364000.0    58\n",
       "271000.0    57\n",
       "            ..\n",
       "990000.0     3\n",
       "956000.0     2\n",
       "977000.0     2\n",
       "996000.0     1\n",
       "933000.0     1\n",
       "Name: tax_value, Length: 900, dtype: int64"
      ]
     },
     "execution_count": 28,
     "metadata": {},
     "output_type": "execute_result"
    }
   ],
   "source": [
    "round(train.tax_value,-3).value_counts()"
   ]
  },
  {
   "cell_type": "code",
   "execution_count": 49,
   "id": "2f0769bf",
   "metadata": {},
   "outputs": [
    {
     "data": {
      "text/plain": [
       "305000.0    65\n",
       "382000.0    64\n",
       "281000.0    58\n",
       "364000.0    58\n",
       "271000.0    57\n",
       "206000.0    56\n",
       "420000.0    56\n",
       "396000.0    56\n",
       "244000.0    55\n",
       "299000.0    53\n",
       "Name: tax_value, dtype: int64"
      ]
     },
     "execution_count": 49,
     "metadata": {},
     "output_type": "execute_result"
    }
   ],
   "source": [
    "round(train.tax_value,-3).value_counts().head(10)"
   ]
  },
  {
   "cell_type": "code",
   "execution_count": 50,
   "id": "3f63a4f5",
   "metadata": {},
   "outputs": [],
   "source": [
    "top_10_mode = round(train.tax_value,-3).value_counts().head(10)"
   ]
  },
  {
   "cell_type": "code",
   "execution_count": 57,
   "id": "37002974",
   "metadata": {},
   "outputs": [
    {
     "data": {
      "text/plain": [
       "305000.0"
      ]
     },
     "execution_count": 57,
     "metadata": {},
     "output_type": "execute_result"
    }
   ],
   "source": [
    "top_10_mode.index[0]"
   ]
  },
  {
   "cell_type": "code",
   "execution_count": 59,
   "id": "e2a8cdfb",
   "metadata": {},
   "outputs": [
    {
     "data": {
      "text/plain": [
       "65"
      ]
     },
     "execution_count": 59,
     "metadata": {},
     "output_type": "execute_result"
    }
   ],
   "source": [
    "top_10_mode.values[0]"
   ]
  },
  {
   "cell_type": "code",
   "execution_count": 66,
   "id": "14a5b7e5",
   "metadata": {},
   "outputs": [
    {
     "data": {
      "text/plain": [
       "578"
      ]
     },
     "execution_count": 66,
     "metadata": {},
     "output_type": "execute_result"
    }
   ],
   "source": [
    "sum(top_10_mode.tolist())"
   ]
  },
  {
   "cell_type": "code",
   "execution_count": 67,
   "id": "4aba5c0c",
   "metadata": {},
   "outputs": [
    {
     "data": {
      "text/plain": [
       "0.11245674740484429"
      ]
     },
     "execution_count": 67,
     "metadata": {},
     "output_type": "execute_result"
    }
   ],
   "source": [
    "65/578"
   ]
  },
  {
   "cell_type": "code",
   "execution_count": 68,
   "id": "e5a1ff07",
   "metadata": {},
   "outputs": [
    {
     "data": {
      "text/plain": [
       "317697.23183391"
      ]
     },
     "execution_count": 68,
     "metadata": {},
     "output_type": "execute_result"
    }
   ],
   "source": [
    "avg_top_10_mode = 0\n",
    "total = sum(top_10_mode.tolist())\n",
    "for i in range(len(top_10_mode)):\n",
    "    dollars = top_10_mode.index[i] \n",
    "    weight = top_10_mode.values[i]\n",
    "    avg_top_10_mode += dollars * weight / total\n",
    "    \n",
    "avg_top_10_mode"
   ]
  },
  {
   "cell_type": "code",
   "execution_count": null,
   "id": "88391973",
   "metadata": {},
   "outputs": [],
   "source": []
  },
  {
   "cell_type": "code",
   "execution_count": null,
   "id": "e3f8f918",
   "metadata": {},
   "outputs": [],
   "source": [
    "i = 0\n",
    "top_10_mode.index"
   ]
  },
  {
   "cell_type": "code",
   "execution_count": 10,
   "id": "7f695ba3",
   "metadata": {},
   "outputs": [],
   "source": [
    "X_cols = []\n",
    "for i in train.columns:\n",
    "    if i not in ['tax_value', 'baseline']:\n",
    "        X_cols.append(i)\n",
    "y_cols = ['tax_value', 'baseline']"
   ]
  },
  {
   "cell_type": "code",
   "execution_count": 11,
   "id": "b3c36712",
   "metadata": {},
   "outputs": [
    {
     "data": {
      "text/plain": [
       "(['beds', 'baths', 'area'], ['tax_value', 'baseline'])"
      ]
     },
     "execution_count": 11,
     "metadata": {},
     "output_type": "execute_result"
    }
   ],
   "source": [
    "X_cols, y_cols\n"
   ]
  },
  {
   "cell_type": "code",
   "execution_count": null,
   "id": "9128ee00",
   "metadata": {},
   "outputs": [],
   "source": []
  }
 ],
 "metadata": {
  "kernelspec": {
   "display_name": "Python 3 (ipykernel)",
   "language": "python",
   "name": "python3"
  },
  "language_info": {
   "codemirror_mode": {
    "name": "ipython",
    "version": 3
   },
   "file_extension": ".py",
   "mimetype": "text/x-python",
   "name": "python",
   "nbconvert_exporter": "python",
   "pygments_lexer": "ipython3",
   "version": "3.9.12"
  }
 },
 "nbformat": 4,
 "nbformat_minor": 5
}
